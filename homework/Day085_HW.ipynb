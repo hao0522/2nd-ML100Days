{
 "cells": [
  {
   "cell_type": "markdown",
   "metadata": {},
   "source": [
    "## Work\n",
    "1. 試改變 monitor \"Validation Accuracy\" 並比較結果\n",
    "2. 調整 earlystop 的等待次數至 10, 25 並比較結果"
   ]
  },
  {
   "cell_type": "code",
   "execution_count": 1,
   "metadata": {},
   "outputs": [
    {
     "name": "stderr",
     "output_type": "stream",
     "text": [
      "Using TensorFlow backend.\n"
     ]
    }
   ],
   "source": [
    "import os\n",
    "import keras\n",
    "import matplotlib.pyplot as plt\n",
    "%matplotlib inline\n",
    "\n",
    "\n",
    "# Disable GPU\n",
    "os.environ[\"CUDA_VISIBLE_DEVICES\"] = \"\""
   ]
  },
  {
   "cell_type": "code",
   "execution_count": 2,
   "metadata": {},
   "outputs": [],
   "source": [
    "train, test = keras.datasets.cifar10.load_data()"
   ]
  },
  {
   "cell_type": "code",
   "execution_count": 3,
   "metadata": {},
   "outputs": [],
   "source": [
    "## 資料前處理\n",
    "def preproc_x(x, flatten=True):\n",
    "    x = x / 255.\n",
    "    if flatten:\n",
    "        x = x.reshape((len(x), -1))\n",
    "    return x\n",
    "\n",
    "def preproc_y(y, num_classes=10):\n",
    "    if y.shape[-1] == 1:\n",
    "        y = keras.utils.to_categorical(y, num_classes)\n",
    "    return y    "
   ]
  },
  {
   "cell_type": "code",
   "execution_count": 4,
   "metadata": {},
   "outputs": [],
   "source": [
    "x_train, y_train = train\n",
    "x_test, y_test = test\n",
    "\n",
    "# Preproc the inputs\n",
    "x_train = preproc_x(x_train)\n",
    "x_test = preproc_x(x_test)\n",
    "\n",
    "# Preprc the outputs\n",
    "y_train = preproc_y(y_train)\n",
    "y_test = preproc_y(y_test)"
   ]
  },
  {
   "cell_type": "code",
   "execution_count": 5,
   "metadata": {},
   "outputs": [],
   "source": [
    "from keras.layers import BatchNormalization\n",
    "def build_mlp(input_shape, output_units=10, num_neurons=[512, 256, 128]):\n",
    "    input_layer = keras.layers.Input(input_shape)\n",
    "    \n",
    "    for i, n_units in enumerate(num_neurons):\n",
    "        if i == 0:\n",
    "            x = keras.layers.Dense(units=n_units, \n",
    "                                   activation=\"relu\", \n",
    "                                   name=\"hidden_layer\"+str(i+1))(input_layer)\n",
    "            x = BatchNormalization()(x)\n",
    "        else:\n",
    "            x = keras.layers.Dense(units=n_units, \n",
    "                                   activation=\"relu\", \n",
    "                                   name=\"hidden_layer\"+str(i+1))(x)\n",
    "            x = BatchNormalization()(x)\n",
    "    \n",
    "    out = keras.layers.Dense(units=output_units, activation=\"softmax\", name=\"output\")(x)\n",
    "    \n",
    "    model = keras.models.Model(inputs=[input_layer], outputs=[out])\n",
    "    return model"
   ]
  },
  {
   "cell_type": "code",
   "execution_count": 6,
   "metadata": {},
   "outputs": [],
   "source": [
    "\"\"\"Code Here\n",
    "設定超參數\n",
    "\"\"\"\n",
    "LEARNING_RATE = 1e-3\n",
    "EPOCHS = 50\n",
    "BATCH_SIZE = 1024\n",
    "MOMENTUM = 0.95"
   ]
  },
  {
   "cell_type": "code",
   "execution_count": 7,
   "metadata": {},
   "outputs": [
    {
     "name": "stderr",
     "output_type": "stream",
     "text": [
      "WARNING: Logging before flag parsing goes to stderr.\n",
      "W0903 14:13:14.455054 13428 deprecation_wrapper.py:119] From C:\\Users\\sam0522\\Anaconda3\\lib\\site-packages\\keras\\backend\\tensorflow_backend.py:74: The name tf.get_default_graph is deprecated. Please use tf.compat.v1.get_default_graph instead.\n",
      "\n",
      "W0903 14:13:14.586700 13428 deprecation_wrapper.py:119] From C:\\Users\\sam0522\\Anaconda3\\lib\\site-packages\\keras\\backend\\tensorflow_backend.py:517: The name tf.placeholder is deprecated. Please use tf.compat.v1.placeholder instead.\n",
      "\n",
      "W0903 14:13:14.615657 13428 deprecation_wrapper.py:119] From C:\\Users\\sam0522\\Anaconda3\\lib\\site-packages\\keras\\backend\\tensorflow_backend.py:4138: The name tf.random_uniform is deprecated. Please use tf.random.uniform instead.\n",
      "\n",
      "W0903 14:13:14.819080 13428 deprecation_wrapper.py:119] From C:\\Users\\sam0522\\Anaconda3\\lib\\site-packages\\keras\\backend\\tensorflow_backend.py:133: The name tf.placeholder_with_default is deprecated. Please use tf.compat.v1.placeholder_with_default instead.\n",
      "\n",
      "W0903 14:13:15.085368 13428 deprecation_wrapper.py:119] From C:\\Users\\sam0522\\Anaconda3\\lib\\site-packages\\keras\\optimizers.py:790: The name tf.train.Optimizer is deprecated. Please use tf.compat.v1.train.Optimizer instead.\n",
      "\n",
      "W0903 14:13:15.096372 13428 deprecation_wrapper.py:119] From C:\\Users\\sam0522\\Anaconda3\\lib\\site-packages\\keras\\backend\\tensorflow_backend.py:3295: The name tf.log is deprecated. Please use tf.math.log instead.\n",
      "\n",
      "W0903 14:13:15.231009 13428 deprecation.py:323] From C:\\Users\\sam0522\\Anaconda3\\lib\\site-packages\\tensorflow\\python\\ops\\math_grad.py:1250: add_dispatch_support.<locals>.wrapper (from tensorflow.python.ops.array_ops) is deprecated and will be removed in a future version.\n",
      "Instructions for updating:\n",
      "Use tf.where in 2.0, which has the same broadcast rule as np.where\n"
     ]
    },
    {
     "name": "stdout",
     "output_type": "stream",
     "text": [
      "_________________________________________________________________\n",
      "Layer (type)                 Output Shape              Param #   \n",
      "=================================================================\n",
      "input_1 (InputLayer)         (None, 3072)              0         \n",
      "_________________________________________________________________\n",
      "hidden_layer1 (Dense)        (None, 512)               1573376   \n",
      "_________________________________________________________________\n",
      "batch_normalization_1 (Batch (None, 512)               2048      \n",
      "_________________________________________________________________\n",
      "hidden_layer2 (Dense)        (None, 256)               131328    \n",
      "_________________________________________________________________\n",
      "batch_normalization_2 (Batch (None, 256)               1024      \n",
      "_________________________________________________________________\n",
      "hidden_layer3 (Dense)        (None, 128)               32896     \n",
      "_________________________________________________________________\n",
      "batch_normalization_3 (Batch (None, 128)               512       \n",
      "_________________________________________________________________\n",
      "output (Dense)               (None, 10)                1290      \n",
      "=================================================================\n",
      "Total params: 1,742,474\n",
      "Trainable params: 1,740,682\n",
      "Non-trainable params: 1,792\n",
      "_________________________________________________________________\n",
      "Train on 50000 samples, validate on 10000 samples\n",
      "Epoch 1/50\n",
      "50000/50000 [==============================] - 7s 141us/step - loss: 2.2073 - acc: 0.2691 - val_loss: 2.0566 - val_acc: 0.3306\n",
      "Epoch 2/50\n",
      "50000/50000 [==============================] - 6s 125us/step - loss: 1.7471 - acc: 0.3952 - val_loss: 1.7826 - val_acc: 0.3906\n",
      "Epoch 3/50\n",
      "50000/50000 [==============================] - 6s 123us/step - loss: 1.6180 - acc: 0.4355 - val_loss: 1.6853 - val_acc: 0.4187\n",
      "Epoch 4/50\n",
      "50000/50000 [==============================] - 6s 124us/step - loss: 1.5438 - acc: 0.4623 - val_loss: 1.6341 - val_acc: 0.4361\n",
      "Epoch 5/50\n",
      "50000/50000 [==============================] - 7s 132us/step - loss: 1.4889 - acc: 0.4809 - val_loss: 1.5912 - val_acc: 0.4466\n",
      "Epoch 6/50\n",
      "50000/50000 [==============================] - 7s 148us/step - loss: 1.4453 - acc: 0.4967 - val_loss: 1.5782 - val_acc: 0.4433\n",
      "Epoch 7/50\n",
      "50000/50000 [==============================] - 7s 147us/step - loss: 1.4072 - acc: 0.5103 - val_loss: 1.5516 - val_acc: 0.4551\n",
      "Epoch 8/50\n",
      "50000/50000 [==============================] - 7s 140us/step - loss: 1.3725 - acc: 0.5230 - val_loss: 1.5312 - val_acc: 0.4674\n",
      "Epoch 9/50\n",
      "50000/50000 [==============================] - 7s 140us/step - loss: 1.3385 - acc: 0.5357 - val_loss: 1.5213 - val_acc: 0.4660\n",
      "Epoch 10/50\n",
      "50000/50000 [==============================] - 8s 150us/step - loss: 1.3107 - acc: 0.5451 - val_loss: 1.4971 - val_acc: 0.4789\n",
      "Epoch 11/50\n",
      "50000/50000 [==============================] - 7s 144us/step - loss: 1.2820 - acc: 0.5549 - val_loss: 1.4945 - val_acc: 0.4787\n",
      "Epoch 12/50\n",
      "50000/50000 [==============================] - 7s 138us/step - loss: 1.2552 - acc: 0.5670 - val_loss: 1.4866 - val_acc: 0.4832\n",
      "Epoch 13/50\n",
      "50000/50000 [==============================] - 7s 141us/step - loss: 1.2298 - acc: 0.5750 - val_loss: 1.4920 - val_acc: 0.4850\n",
      "Epoch 14/50\n",
      "50000/50000 [==============================] - 7s 137us/step - loss: 1.2041 - acc: 0.5851 - val_loss: 1.4731 - val_acc: 0.4892\n",
      "Epoch 15/50\n",
      "50000/50000 [==============================] - 7s 138us/step - loss: 1.1795 - acc: 0.5938 - val_loss: 1.4874 - val_acc: 0.4830\n",
      "Epoch 16/50\n",
      "50000/50000 [==============================] - 7s 149us/step - loss: 1.1572 - acc: 0.6040 - val_loss: 1.4733 - val_acc: 0.4917\n",
      "Epoch 17/50\n",
      "50000/50000 [==============================] - 7s 142us/step - loss: 1.1354 - acc: 0.6094 - val_loss: 1.4693 - val_acc: 0.4901\n",
      "Epoch 18/50\n",
      "50000/50000 [==============================] - 7s 134us/step - loss: 1.1115 - acc: 0.6207 - val_loss: 1.4621 - val_acc: 0.4912\n",
      "Epoch 19/50\n",
      "50000/50000 [==============================] - 7s 147us/step - loss: 1.0887 - acc: 0.6285 - val_loss: 1.4715 - val_acc: 0.4839\n",
      "Epoch 20/50\n",
      "50000/50000 [==============================] - 7s 141us/step - loss: 1.0688 - acc: 0.6361 - val_loss: 1.4655 - val_acc: 0.4975\n",
      "Epoch 21/50\n",
      "50000/50000 [==============================] - 7s 139us/step - loss: 1.0458 - acc: 0.6446 - val_loss: 1.4735 - val_acc: 0.4921\n",
      "Epoch 22/50\n",
      "50000/50000 [==============================] - 7s 139us/step - loss: 1.0250 - acc: 0.6536 - val_loss: 1.4762 - val_acc: 0.4924\n",
      "Epoch 23/50\n",
      "50000/50000 [==============================] - 7s 141us/step - loss: 1.0026 - acc: 0.6602 - val_loss: 1.4637 - val_acc: 0.4944\n",
      "Epoch 24/50\n",
      "50000/50000 [==============================] - 7s 143us/step - loss: 0.9829 - acc: 0.6687 - val_loss: 1.4712 - val_acc: 0.4929\n",
      "Epoch 25/50\n",
      "50000/50000 [==============================] - 8s 158us/step - loss: 0.9616 - acc: 0.6767 - val_loss: 1.4805 - val_acc: 0.4884\n",
      "Epoch 26/50\n",
      "50000/50000 [==============================] - 8s 166us/step - loss: 0.9423 - acc: 0.6845 - val_loss: 1.4764 - val_acc: 0.4955\n",
      "Epoch 27/50\n",
      "50000/50000 [==============================] - 8s 164us/step - loss: 0.9239 - acc: 0.6908 - val_loss: 1.4951 - val_acc: 0.4924\n",
      "Epoch 28/50\n",
      "50000/50000 [==============================] - 7s 143us/step - loss: 0.9019 - acc: 0.6993 - val_loss: 1.4805 - val_acc: 0.4954\n",
      "Epoch 29/50\n",
      "50000/50000 [==============================] - 7s 138us/step - loss: 0.8802 - acc: 0.7081 - val_loss: 1.4974 - val_acc: 0.4938\n",
      "Epoch 30/50\n",
      "50000/50000 [==============================] - 7s 146us/step - loss: 0.8605 - acc: 0.7169 - val_loss: 1.5029 - val_acc: 0.4923\n",
      "Epoch 00030: early stopping\n"
     ]
    }
   ],
   "source": [
    "# 載入 Callbacks\n",
    "\"\"\"Code Here\n",
    "設定 callbacks: Earlystop\n",
    "\"\"\"\n",
    "from keras.callbacks import EarlyStopping\n",
    "\n",
    "earlystop = EarlyStopping(monitor=\"val_acc\", \n",
    "                          patience=10, \n",
    "                          verbose=1\n",
    "                          )\n",
    "\"\"\"Code Here\n",
    "撰寫你的訓練流程並將結果用 dictionary 紀錄\n",
    "\"\"\"\n",
    "model = build_mlp(input_shape=x_train.shape[1:])\n",
    "model.summary()\n",
    "optimizer = keras.optimizers.SGD(lr=LEARNING_RATE, nesterov=True, momentum=MOMENTUM)\n",
    "model.compile(loss=\"categorical_crossentropy\", metrics=[\"accuracy\"], optimizer=optimizer)\n",
    "\n",
    "model.fit(x_train, y_train, \n",
    "          epochs=EPOCHS, \n",
    "          batch_size=BATCH_SIZE, \n",
    "          validation_data=(x_test, y_test), \n",
    "          shuffle=True,\n",
    "          callbacks=[earlystop]\n",
    "         )"
   ]
  },
  {
   "cell_type": "code",
   "execution_count": 8,
   "metadata": {},
   "outputs": [
    {
     "data": {
      "image/png": "[encoded data removed]",
      "text/plain": [
       "<Figure size 432x288 with 1 Axes>"
      ]
     },
     "metadata": {
      "needs_background": "light"
     },
     "output_type": "display_data"
    },
    {
     "data": {
      "image/png": "[encoded data removed]",
      "text/plain": [
       "<Figure size 432x288 with 1 Axes>"
      ]
     },
     "metadata": {
      "needs_background": "light"
     },
     "output_type": "display_data"
    }
   ],
   "source": [
    "import matplotlib.pyplot as plt\n",
    "%matplotlib inline\n",
    "\"\"\"Code Here\n",
    "將結果繪出\n",
    "\"\"\"\n",
    "# Collect results\n",
    "train_loss = model.history.history[\"loss\"]\n",
    "valid_loss = model.history.history[\"val_loss\"]\n",
    "train_acc = model.history.history[\"acc\"]\n",
    "valid_acc = model.history.history[\"val_acc\"]\n",
    "\n",
    "plt.plot(range(len(train_loss)), train_loss, label=\"train loss\")\n",
    "plt.plot(range(len(valid_loss)), valid_loss, label=\"valid loss\")\n",
    "plt.legend()\n",
    "plt.title(\"Loss\")\n",
    "plt.show()\n",
    "\n",
    "plt.plot(range(len(train_acc)), train_acc, label=\"train accuracy\")\n",
    "plt.plot(range(len(valid_acc)), valid_acc, label=\"valid accuracy\")\n",
    "plt.legend()\n",
    "plt.title(\"Accuracy\")\n",
    "plt.show()"
   ]
  },
  {
   "cell_type": "code",
   "execution_count": 9,
   "metadata": {},
   "outputs": [
    {
     "name": "stdout",
     "output_type": "stream",
     "text": [
      "_________________________________________________________________\n",
      "Layer (type)                 Output Shape              Param #   \n",
      "=================================================================\n",
      "input_2 (InputLayer)         (None, 3072)              0         \n",
      "_________________________________________________________________\n",
      "hidden_layer1 (Dense)        (None, 512)               1573376   \n",
      "_________________________________________________________________\n",
      "batch_normalization_4 (Batch (None, 512)               2048      \n",
      "_________________________________________________________________\n",
      "hidden_layer2 (Dense)        (None, 256)               131328    \n",
      "_________________________________________________________________\n",
      "batch_normalization_5 (Batch (None, 256)               1024      \n",
      "_________________________________________________________________\n",
      "hidden_layer3 (Dense)        (None, 128)               32896     \n",
      "_________________________________________________________________\n",
      "batch_normalization_6 (Batch (None, 128)               512       \n",
      "_________________________________________________________________\n",
      "output (Dense)               (None, 10)                1290      \n",
      "=================================================================\n",
      "Total params: 1,742,474\n",
      "Trainable params: 1,740,682\n",
      "Non-trainable params: 1,792\n",
      "_________________________________________________________________\n",
      "Train on 50000 samples, validate on 10000 samples\n",
      "Epoch 1/50\n",
      "50000/50000 [==============================] - 7s 141us/step - loss: 2.2179 - acc: 0.2715 - val_loss: 2.1126 - val_acc: 0.3167\n",
      "Epoch 2/50\n",
      "50000/50000 [==============================] - 6s 123us/step - loss: 1.7264 - acc: 0.3956 - val_loss: 1.8291 - val_acc: 0.3741\n",
      "Epoch 3/50\n",
      "50000/50000 [==============================] - 6s 120us/step - loss: 1.6010 - acc: 0.4380 - val_loss: 1.6904 - val_acc: 0.4109\n",
      "Epoch 4/50\n",
      "50000/50000 [==============================] - 7s 132us/step - loss: 1.5278 - acc: 0.4649 - val_loss: 1.6351 - val_acc: 0.4292\n",
      "Epoch 5/50\n",
      "50000/50000 [==============================] - 7s 132us/step - loss: 1.4742 - acc: 0.4843 - val_loss: 1.5853 - val_acc: 0.4413\n",
      "Epoch 6/50\n",
      "50000/50000 [==============================] - 7s 135us/step - loss: 1.4293 - acc: 0.5020 - val_loss: 1.5605 - val_acc: 0.4573\n",
      "Epoch 7/50\n",
      "50000/50000 [==============================] - 7s 146us/step - loss: 1.3912 - acc: 0.5150 - val_loss: 1.5512 - val_acc: 0.4554\n",
      "Epoch 8/50\n",
      "50000/50000 [==============================] - 6s 129us/step - loss: 1.3566 - acc: 0.5285 - val_loss: 1.5369 - val_acc: 0.4634\n",
      "Epoch 9/50\n",
      "50000/50000 [==============================] - 6s 130us/step - loss: 1.3259 - acc: 0.5388 - val_loss: 1.5249 - val_acc: 0.4604\n",
      "Epoch 10/50\n",
      "50000/50000 [==============================] - 6s 129us/step - loss: 1.2947 - acc: 0.5525 - val_loss: 1.5195 - val_acc: 0.4660\n",
      "Epoch 11/50\n",
      "50000/50000 [==============================] - 7s 132us/step - loss: 1.2673 - acc: 0.5620 - val_loss: 1.4974 - val_acc: 0.4694\n",
      "Epoch 12/50\n",
      "50000/50000 [==============================] - 7s 133us/step - loss: 1.2411 - acc: 0.5722 - val_loss: 1.5032 - val_acc: 0.4730\n",
      "Epoch 13/50\n",
      "50000/50000 [==============================] - 7s 131us/step - loss: 1.2151 - acc: 0.5824 - val_loss: 1.4848 - val_acc: 0.4780\n",
      "Epoch 14/50\n",
      "50000/50000 [==============================] - 6s 129us/step - loss: 1.1918 - acc: 0.5921 - val_loss: 1.4800 - val_acc: 0.4830\n",
      "Epoch 15/50\n",
      "50000/50000 [==============================] - 7s 134us/step - loss: 1.1669 - acc: 0.6011 - val_loss: 1.4812 - val_acc: 0.4813\n",
      "Epoch 16/50\n",
      "50000/50000 [==============================] - 7s 145us/step - loss: 1.1453 - acc: 0.6100 - val_loss: 1.4690 - val_acc: 0.4843\n",
      "Epoch 17/50\n",
      "50000/50000 [==============================] - 7s 143us/step - loss: 1.1212 - acc: 0.6183 - val_loss: 1.4677 - val_acc: 0.4847\n",
      "Epoch 18/50\n",
      "50000/50000 [==============================] - 6s 129us/step - loss: 1.0981 - acc: 0.6272 - val_loss: 1.4721 - val_acc: 0.4869\n",
      "Epoch 19/50\n",
      "50000/50000 [==============================] - 7s 131us/step - loss: 1.0788 - acc: 0.6346 - val_loss: 1.4756 - val_acc: 0.4875\n",
      "Epoch 20/50\n",
      "50000/50000 [==============================] - 7s 133us/step - loss: 1.0571 - acc: 0.6443 - val_loss: 1.4749 - val_acc: 0.4781\n",
      "Epoch 21/50\n",
      "50000/50000 [==============================] - 7s 139us/step - loss: 1.0352 - acc: 0.6513 - val_loss: 1.4711 - val_acc: 0.4862\n",
      "Epoch 22/50\n",
      "50000/50000 [==============================] - 7s 142us/step - loss: 1.0144 - acc: 0.6596 - val_loss: 1.4652 - val_acc: 0.4920\n",
      "Epoch 23/50\n",
      "50000/50000 [==============================] - 8s 158us/step - loss: 0.9927 - acc: 0.6677 - val_loss: 1.4722 - val_acc: 0.4894\n",
      "Epoch 24/50\n",
      "50000/50000 [==============================] - 8s 152us/step - loss: 0.9729 - acc: 0.6762 - val_loss: 1.4762 - val_acc: 0.4923\n",
      "Epoch 25/50\n",
      "50000/50000 [==============================] - 7s 141us/step - loss: 0.9526 - acc: 0.6843 - val_loss: 1.4714 - val_acc: 0.4883\n",
      "Epoch 26/50\n",
      "50000/50000 [==============================] - 8s 154us/step - loss: 0.9317 - acc: 0.6911 - val_loss: 1.5049 - val_acc: 0.4774\n",
      "Epoch 27/50\n",
      "50000/50000 [==============================] - 9s 186us/step - loss: 0.9113 - acc: 0.7010 - val_loss: 1.4872 - val_acc: 0.4860\n",
      "Epoch 28/50\n",
      "50000/50000 [==============================] - 7s 148us/step - loss: 0.8918 - acc: 0.7053 - val_loss: 1.4827 - val_acc: 0.4942\n",
      "Epoch 29/50\n",
      "50000/50000 [==============================] - 7s 148us/step - loss: 0.8721 - acc: 0.7149 - val_loss: 1.4933 - val_acc: 0.4939\n",
      "Epoch 30/50\n",
      "50000/50000 [==============================] - 7s 147us/step - loss: 0.8525 - acc: 0.7208 - val_loss: 1.5019 - val_acc: 0.4911\n",
      "Epoch 31/50\n",
      "50000/50000 [==============================] - 7s 139us/step - loss: 0.8337 - acc: 0.7293 - val_loss: 1.5102 - val_acc: 0.4902\n",
      "Epoch 32/50\n",
      "50000/50000 [==============================] - 8s 151us/step - loss: 0.8160 - acc: 0.7374 - val_loss: 1.5323 - val_acc: 0.4855\n",
      "Epoch 00032: early stopping\n"
     ]
    },
    {
     "data": {
      "text/plain": [
       "<keras.callbacks.History at 0x20386fb50b8>"
      ]
     },
     "execution_count": 9,
     "metadata": {},
     "output_type": "execute_result"
    }
   ],
   "source": [
    "earlystop = EarlyStopping(monitor=\"val_loss\", \n",
    "                          patience=10, \n",
    "                          verbose=1\n",
    "                          )\n",
    "\n",
    "model = build_mlp(input_shape=x_train.shape[1:])\n",
    "model.summary()\n",
    "optimizer = keras.optimizers.SGD(lr=LEARNING_RATE, nesterov=True, momentum=MOMENTUM)\n",
    "model.compile(loss=\"categorical_crossentropy\", metrics=[\"accuracy\"], optimizer=optimizer)\n",
    "\n",
    "model.fit(x_train, y_train, \n",
    "          epochs=EPOCHS, \n",
    "          batch_size=BATCH_SIZE, \n",
    "          validation_data=(x_test, y_test), \n",
    "          shuffle=True,\n",
    "          callbacks=[earlystop]\n",
    "         )"
   ]
  },
  {
   "cell_type": "code",
   "execution_count": 10,
   "metadata": {},
   "outputs": [
    {
     "data": {
      "image/png": "[encoded data removed]",
      "text/plain": [
       "<Figure size 432x288 with 1 Axes>"
      ]
     },
     "metadata": {
      "needs_background": "light"
     },
     "output_type": "display_data"
    },
    {
     "data": {
      "image/png": "[encoded data removed]",
      "text/plain": [
       "<Figure size 432x288 with 1 Axes>"
      ]
     },
     "metadata": {
      "needs_background": "light"
     },
     "output_type": "display_data"
    }
   ],
   "source": [
    "# Collect results\n",
    "train_loss = model.history.history[\"loss\"]\n",
    "valid_loss = model.history.history[\"val_loss\"]\n",
    "train_acc = model.history.history[\"acc\"]\n",
    "valid_acc = model.history.history[\"val_acc\"]\n",
    "\n",
    "plt.plot(range(len(train_loss)), train_loss, label=\"train loss\")\n",
    "plt.plot(range(len(valid_loss)), valid_loss, label=\"valid loss\")\n",
    "plt.legend()\n",
    "plt.title(\"Loss\")\n",
    "plt.show()\n",
    "\n",
    "plt.plot(range(len(train_acc)), train_acc, label=\"train accuracy\")\n",
    "plt.plot(range(len(valid_acc)), valid_acc, label=\"valid accuracy\")\n",
    "plt.legend()\n",
    "plt.title(\"Accuracy\")\n",
    "plt.show()"
   ]
  },
  {
   "cell_type": "code",
   "execution_count": 11,
   "metadata": {},
   "outputs": [
    {
     "name": "stdout",
     "output_type": "stream",
     "text": [
      "_________________________________________________________________\n",
      "Layer (type)                 Output Shape              Param #   \n",
      "=================================================================\n",
      "input_3 (InputLayer)         (None, 3072)              0         \n",
      "_________________________________________________________________\n",
      "hidden_layer1 (Dense)        (None, 512)               1573376   \n",
      "_________________________________________________________________\n",
      "batch_normalization_7 (Batch (None, 512)               2048      \n",
      "_________________________________________________________________\n",
      "hidden_layer2 (Dense)        (None, 256)               131328    \n",
      "_________________________________________________________________\n",
      "batch_normalization_8 (Batch (None, 256)               1024      \n",
      "_________________________________________________________________\n",
      "hidden_layer3 (Dense)        (None, 128)               32896     \n",
      "_________________________________________________________________\n",
      "batch_normalization_9 (Batch (None, 128)               512       \n",
      "_________________________________________________________________\n",
      "output (Dense)               (None, 10)                1290      \n",
      "=================================================================\n",
      "Total params: 1,742,474\n",
      "Trainable params: 1,740,682\n",
      "Non-trainable params: 1,792\n",
      "_________________________________________________________________\n",
      "Train on 50000 samples, validate on 10000 samples\n",
      "Epoch 1/50\n",
      "50000/50000 [==============================] - 8s 151us/step - loss: 2.1860 - acc: 0.2751 - val_loss: 2.0956 - val_acc: 0.3306\n",
      "Epoch 2/50\n",
      "50000/50000 [==============================] - 6s 122us/step - loss: 1.7335 - acc: 0.3972 - val_loss: 1.8001 - val_acc: 0.3822\n",
      "Epoch 3/50\n",
      "50000/50000 [==============================] - 6s 119us/step - loss: 1.6125 - acc: 0.4366 - val_loss: 1.7073 - val_acc: 0.4003\n",
      "Epoch 4/50\n",
      "50000/50000 [==============================] - 6s 122us/step - loss: 1.5417 - acc: 0.4625 - val_loss: 1.6395 - val_acc: 0.4181\n",
      "Epoch 5/50\n",
      "50000/50000 [==============================] - 6s 119us/step - loss: 1.4891 - acc: 0.4789 - val_loss: 1.6000 - val_acc: 0.4429\n",
      "Epoch 6/50\n",
      "50000/50000 [==============================] - 7s 139us/step - loss: 1.4437 - acc: 0.4982 - val_loss: 1.5812 - val_acc: 0.4479\n",
      "Epoch 7/50\n",
      "50000/50000 [==============================] - 7s 143us/step - loss: 1.4072 - acc: 0.5109 - val_loss: 1.5500 - val_acc: 0.4561\n",
      "Epoch 8/50\n",
      "50000/50000 [==============================] - 6s 128us/step - loss: 1.3727 - acc: 0.5239 - val_loss: 1.5299 - val_acc: 0.4643\n",
      "Epoch 9/50\n",
      "50000/50000 [==============================] - 7s 134us/step - loss: 1.3400 - acc: 0.5346 - val_loss: 1.5272 - val_acc: 0.4625\n",
      "Epoch 10/50\n",
      "50000/50000 [==============================] - 7s 131us/step - loss: 1.3112 - acc: 0.5462 - val_loss: 1.4997 - val_acc: 0.4762\n",
      "Epoch 11/50\n",
      "50000/50000 [==============================] - 7s 132us/step - loss: 1.2839 - acc: 0.5568 - val_loss: 1.4929 - val_acc: 0.4754\n",
      "Epoch 12/50\n",
      "50000/50000 [==============================] - 6s 130us/step - loss: 1.2552 - acc: 0.5677 - val_loss: 1.4891 - val_acc: 0.4790\n",
      "Epoch 13/50\n",
      "50000/50000 [==============================] - 6s 126us/step - loss: 1.2296 - acc: 0.5770 - val_loss: 1.4885 - val_acc: 0.4805\n",
      "Epoch 14/50\n",
      "50000/50000 [==============================] - 6s 127us/step - loss: 1.2042 - acc: 0.5862 - val_loss: 1.4868 - val_acc: 0.4816\n",
      "Epoch 15/50\n",
      "50000/50000 [==============================] - 6s 129us/step - loss: 1.1807 - acc: 0.5963 - val_loss: 1.4692 - val_acc: 0.4837\n",
      "Epoch 16/50\n",
      "50000/50000 [==============================] - 7s 136us/step - loss: 1.1560 - acc: 0.6042 - val_loss: 1.4716 - val_acc: 0.4878\n",
      "Epoch 17/50\n",
      "50000/50000 [==============================] - 7s 140us/step - loss: 1.1328 - acc: 0.6123 - val_loss: 1.4683 - val_acc: 0.4870\n",
      "Epoch 18/50\n",
      "50000/50000 [==============================] - 7s 136us/step - loss: 1.1084 - acc: 0.6207 - val_loss: 1.4732 - val_acc: 0.4855\n",
      "Epoch 19/50\n",
      "50000/50000 [==============================] - 8s 153us/step - loss: 1.0888 - acc: 0.6299 - val_loss: 1.4707 - val_acc: 0.4867\n",
      "Epoch 20/50\n",
      "50000/50000 [==============================] - 9s 181us/step - loss: 1.0664 - acc: 0.6371 - val_loss: 1.4763 - val_acc: 0.4884\n",
      "Epoch 21/50\n",
      "50000/50000 [==============================] - 7s 149us/step - loss: 1.0448 - acc: 0.6459 - val_loss: 1.4635 - val_acc: 0.4906\n",
      "Epoch 22/50\n",
      "50000/50000 [==============================] - 7s 148us/step - loss: 1.0238 - acc: 0.6519 - val_loss: 1.4805 - val_acc: 0.4908\n",
      "Epoch 23/50\n",
      "50000/50000 [==============================] - 7s 147us/step - loss: 1.0028 - acc: 0.6600 - val_loss: 1.4748 - val_acc: 0.4942\n",
      "Epoch 24/50\n",
      "50000/50000 [==============================] - 8s 159us/step - loss: 0.9838 - acc: 0.6692 - val_loss: 1.4662 - val_acc: 0.4990\n",
      "Epoch 25/50\n",
      "50000/50000 [==============================] - 7s 141us/step - loss: 0.9608 - acc: 0.6768 - val_loss: 1.4753 - val_acc: 0.4950\n",
      "Epoch 26/50\n",
      "50000/50000 [==============================] - 8s 150us/step - loss: 0.9404 - acc: 0.6846 - val_loss: 1.4741 - val_acc: 0.5000\n",
      "Epoch 27/50\n",
      "50000/50000 [==============================] - 7s 133us/step - loss: 0.9202 - acc: 0.6927 - val_loss: 1.4827 - val_acc: 0.4921\n",
      "Epoch 28/50\n",
      "50000/50000 [==============================] - 6s 128us/step - loss: 0.9014 - acc: 0.6987 - val_loss: 1.4932 - val_acc: 0.4950\n",
      "Epoch 29/50\n",
      "50000/50000 [==============================] - 6s 129us/step - loss: 0.8806 - acc: 0.7079 - val_loss: 1.4869 - val_acc: 0.5013\n",
      "Epoch 30/50\n",
      "50000/50000 [==============================] - 7s 148us/step - loss: 0.8608 - acc: 0.7143 - val_loss: 1.5031 - val_acc: 0.4973\n",
      "Epoch 31/50\n",
      "50000/50000 [==============================] - 7s 135us/step - loss: 0.8432 - acc: 0.7222 - val_loss: 1.4929 - val_acc: 0.4986\n",
      "Epoch 32/50\n",
      "50000/50000 [==============================] - 7s 139us/step - loss: 0.8216 - acc: 0.7292 - val_loss: 1.4996 - val_acc: 0.4971\n",
      "Epoch 33/50\n",
      "50000/50000 [==============================] - 9s 174us/step - loss: 0.8035 - acc: 0.7377 - val_loss: 1.5030 - val_acc: 0.4959\n",
      "Epoch 34/50\n",
      "50000/50000 [==============================] - 7s 147us/step - loss: 0.7849 - acc: 0.7446 - val_loss: 1.5238 - val_acc: 0.4958\n",
      "Epoch 35/50\n",
      "50000/50000 [==============================] - 7s 139us/step - loss: 0.7650 - acc: 0.7530 - val_loss: 1.5155 - val_acc: 0.4942\n",
      "Epoch 36/50\n",
      "50000/50000 [==============================] - 7s 134us/step - loss: 0.7466 - acc: 0.7588 - val_loss: 1.5247 - val_acc: 0.4935\n",
      "Epoch 37/50\n",
      "50000/50000 [==============================] - 6s 130us/step - loss: 0.7261 - acc: 0.7678 - val_loss: 1.5454 - val_acc: 0.4934\n",
      "Epoch 38/50\n",
      "50000/50000 [==============================] - 7s 130us/step - loss: 0.7084 - acc: 0.7749 - val_loss: 1.5507 - val_acc: 0.4974\n",
      "Epoch 39/50\n",
      "50000/50000 [==============================] - 7s 133us/step - loss: 0.6896 - acc: 0.7816 - val_loss: 1.5583 - val_acc: 0.4948\n",
      "Epoch 40/50\n",
      "50000/50000 [==============================] - 6s 129us/step - loss: 0.6687 - acc: 0.7922 - val_loss: 1.5748 - val_acc: 0.4938\n",
      "Epoch 41/50\n",
      "50000/50000 [==============================] - 7s 134us/step - loss: 0.6528 - acc: 0.7953 - val_loss: 1.5814 - val_acc: 0.4963\n",
      "Epoch 42/50\n",
      "50000/50000 [==============================] - 7s 139us/step - loss: 0.6350 - acc: 0.8053 - val_loss: 1.5825 - val_acc: 0.4939\n",
      "Epoch 43/50\n",
      "50000/50000 [==============================] - 7s 132us/step - loss: 0.6172 - acc: 0.8107 - val_loss: 1.5887 - val_acc: 0.4954\n",
      "Epoch 44/50\n",
      "50000/50000 [==============================] - 6s 129us/step - loss: 0.6009 - acc: 0.8175 - val_loss: 1.6098 - val_acc: 0.4970\n",
      "Epoch 45/50\n",
      "50000/50000 [==============================] - 7s 131us/step - loss: 0.5825 - acc: 0.8260 - val_loss: 1.6369 - val_acc: 0.4868\n",
      "Epoch 46/50\n",
      "50000/50000 [==============================] - 6s 130us/step - loss: 0.5650 - acc: 0.8313 - val_loss: 1.6293 - val_acc: 0.4953\n",
      "Epoch 00046: early stopping\n"
     ]
    },
    {
     "data": {
      "text/plain": [
       "<keras.callbacks.History at 0x20398320e80>"
      ]
     },
     "execution_count": 11,
     "metadata": {},
     "output_type": "execute_result"
    }
   ],
   "source": [
    "earlystop = EarlyStopping(monitor=\"val_loss\", \n",
    "                          patience=25, \n",
    "                          verbose=1\n",
    "                          )\n",
    "\n",
    "model = build_mlp(input_shape=x_train.shape[1:])\n",
    "model.summary()\n",
    "optimizer = keras.optimizers.SGD(lr=LEARNING_RATE, nesterov=True, momentum=MOMENTUM)\n",
    "model.compile(loss=\"categorical_crossentropy\", metrics=[\"accuracy\"], optimizer=optimizer)\n",
    "\n",
    "model.fit(x_train, y_train, \n",
    "          epochs=EPOCHS, \n",
    "          batch_size=BATCH_SIZE, \n",
    "          validation_data=(x_test, y_test), \n",
    "          shuffle=True,\n",
    "          callbacks=[earlystop]\n",
    "         )"
   ]
  },
  {
   "cell_type": "code",
   "execution_count": 12,
   "metadata": {},
   "outputs": [
    {
     "data": {
      "image/png": "[encoded data removed]",
      "text/plain": [
       "<Figure size 432x288 with 1 Axes>"
      ]
     },
     "metadata": {
      "needs_background": "light"
     },
     "output_type": "display_data"
    },
    {
     "data": {
      "image/png": "[encoded data removed]",
      "text/plain": [
       "<Figure size 432x288 with 1 Axes>"
      ]
     },
     "metadata": {
      "needs_background": "light"
     },
     "output_type": "display_data"
    }
   ],
   "source": [
    "# Collect results\n",
    "train_loss = model.history.history[\"loss\"]\n",
    "valid_loss = model.history.history[\"val_loss\"]\n",
    "train_acc = model.history.history[\"acc\"]\n",
    "valid_acc = model.history.history[\"val_acc\"]\n",
    "\n",
    "plt.plot(range(len(train_loss)), train_loss, label=\"train loss\")\n",
    "plt.plot(range(len(valid_loss)), valid_loss, label=\"valid loss\")\n",
    "plt.legend()\n",
    "plt.title(\"Loss\")\n",
    "plt.show()\n",
    "\n",
    "plt.plot(range(len(train_acc)), train_acc, label=\"train accuracy\")\n",
    "plt.plot(range(len(valid_acc)), valid_acc, label=\"valid accuracy\")\n",
    "plt.legend()\n",
    "plt.title(\"Accuracy\")\n",
    "plt.show()"
   ]
  },
  {
   "cell_type": "code",
   "execution_count": null,
   "metadata": {},
   "outputs": [],
   "source": []
  }
 ],
 "metadata": {
  "kernelspec": {
   "display_name": "Python 3",
   "language": "python",
   "name": "python3"
  },
  "language_info": {
   "codemirror_mode": {
    "name": "ipython",
    "version": 3
   },
   "file_extension": ".py",
   "mimetype": "text/x-python",
   "name": "python",
   "nbconvert_exporter": "python",
   "pygments_lexer": "ipython3",
   "version": "3.7.3"
  }
 },
 "nbformat": 4,
 "nbformat_minor": 2
}

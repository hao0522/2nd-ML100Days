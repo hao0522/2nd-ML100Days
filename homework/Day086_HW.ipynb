{
 "cells": [
  {
   "cell_type": "markdown",
   "metadata": {},
   "source": [
    "## Work\n",
    "1. 試比較 save_best_only 與否的差異\n",
    "2. 請僅存入將 save_weights_only 設定為 True, 並嘗試 reset ipynb 並將模型與權重重新建回並預測 x_test"
   ]
  },
  {
   "cell_type": "code",
   "execution_count": 1,
   "metadata": {},
   "outputs": [
    {
     "name": "stderr",
     "output_type": "stream",
     "text": [
      "Using TensorFlow backend.\n"
     ]
    }
   ],
   "source": [
    "import os\n",
    "import keras\n",
    "\n",
    "# Disable GPU\n",
    "os.environ[\"CUDA_VISIBLE_DEVICES\"] = \"\""
   ]
  },
  {
   "cell_type": "code",
   "execution_count": 2,
   "metadata": {},
   "outputs": [],
   "source": [
    "train, test = keras.datasets.cifar10.load_data()"
   ]
  },
  {
   "cell_type": "code",
   "execution_count": 3,
   "metadata": {},
   "outputs": [],
   "source": [
    "## 資料前處理\n",
    "def preproc_x(x, flatten=True):\n",
    "    x = x / 255.\n",
    "    if flatten:\n",
    "        x = x.reshape((len(x), -1))\n",
    "    return x\n",
    "\n",
    "def preproc_y(y, num_classes=10):\n",
    "    if y.shape[-1] == 1:\n",
    "        y = keras.utils.to_categorical(y, num_classes)\n",
    "    return y    "
   ]
  },
  {
   "cell_type": "code",
   "execution_count": 4,
   "metadata": {},
   "outputs": [],
   "source": [
    "x_train, y_train = train\n",
    "x_test, y_test = test\n",
    "\n",
    "# Preproc the inputs\n",
    "x_train = preproc_x(x_train)\n",
    "x_test = preproc_x(x_test)\n",
    "\n",
    "# Preprc the outputs\n",
    "y_train = preproc_y(y_train)\n",
    "y_test = preproc_y(y_test)"
   ]
  },
  {
   "cell_type": "code",
   "execution_count": 5,
   "metadata": {},
   "outputs": [],
   "source": [
    "from keras.layers import BatchNormalization\n",
    "def build_mlp(input_shape, output_units=10, num_neurons=[512, 256, 128]):\n",
    "    input_layer = keras.layers.Input(input_shape)\n",
    "    \n",
    "    for i, n_units in enumerate(num_neurons):\n",
    "        if i == 0:\n",
    "            x = keras.layers.Dense(units=n_units, \n",
    "                                   activation=\"relu\", \n",
    "                                   name=\"hidden_layer\"+str(i+1))(input_layer)\n",
    "            x = BatchNormalization()(x)\n",
    "        else:\n",
    "            x = keras.layers.Dense(units=n_units, \n",
    "                                   activation=\"relu\", \n",
    "                                   name=\"hidden_layer\"+str(i+1))(x)\n",
    "            x = BatchNormalization()(x)\n",
    "    \n",
    "    out = keras.layers.Dense(units=output_units, activation=\"softmax\", name=\"output\")(x)\n",
    "    \n",
    "    model = keras.models.Model(inputs=[input_layer], outputs=[out])\n",
    "    return model"
   ]
  },
  {
   "cell_type": "code",
   "execution_count": 6,
   "metadata": {},
   "outputs": [],
   "source": [
    "\"\"\"Code Here\n",
    "設定超參數\n",
    "\"\"\"\n",
    "LEARNING_RATE = 1e-3\n",
    "EPOCHS = 50\n",
    "BATCH_SIZE = 1024\n",
    "MOMENTUM = 0.95"
   ]
  },
  {
   "cell_type": "code",
   "execution_count": 7,
   "metadata": {},
   "outputs": [
    {
     "name": "stderr",
     "output_type": "stream",
     "text": [
      "WARNING: Logging before flag parsing goes to stderr.\n",
      "W0903 15:01:08.206477  6788 deprecation_wrapper.py:119] From C:\\Users\\sam0522\\Anaconda3\\lib\\site-packages\\keras\\backend\\tensorflow_backend.py:74: The name tf.get_default_graph is deprecated. Please use tf.compat.v1.get_default_graph instead.\n",
      "\n",
      "W0903 15:01:08.262328  6788 deprecation_wrapper.py:119] From C:\\Users\\sam0522\\Anaconda3\\lib\\site-packages\\keras\\backend\\tensorflow_backend.py:517: The name tf.placeholder is deprecated. Please use tf.compat.v1.placeholder instead.\n",
      "\n",
      "W0903 15:01:08.270309  6788 deprecation_wrapper.py:119] From C:\\Users\\sam0522\\Anaconda3\\lib\\site-packages\\keras\\backend\\tensorflow_backend.py:4138: The name tf.random_uniform is deprecated. Please use tf.random.uniform instead.\n",
      "\n",
      "W0903 15:01:08.420905  6788 deprecation_wrapper.py:119] From C:\\Users\\sam0522\\Anaconda3\\lib\\site-packages\\keras\\backend\\tensorflow_backend.py:133: The name tf.placeholder_with_default is deprecated. Please use tf.compat.v1.placeholder_with_default instead.\n",
      "\n",
      "W0903 15:01:08.909597  6788 deprecation_wrapper.py:119] From C:\\Users\\sam0522\\Anaconda3\\lib\\site-packages\\keras\\optimizers.py:790: The name tf.train.Optimizer is deprecated. Please use tf.compat.v1.train.Optimizer instead.\n",
      "\n",
      "W0903 15:01:08.929546  6788 deprecation_wrapper.py:119] From C:\\Users\\sam0522\\Anaconda3\\lib\\site-packages\\keras\\backend\\tensorflow_backend.py:3295: The name tf.log is deprecated. Please use tf.math.log instead.\n",
      "\n",
      "W0903 15:01:09.035261  6788 deprecation.py:323] From C:\\Users\\sam0522\\Anaconda3\\lib\\site-packages\\tensorflow\\python\\ops\\math_grad.py:1250: add_dispatch_support.<locals>.wrapper (from tensorflow.python.ops.array_ops) is deprecated and will be removed in a future version.\n",
      "Instructions for updating:\n",
      "Use tf.where in 2.0, which has the same broadcast rule as np.where\n"
     ]
    },
    {
     "name": "stdout",
     "output_type": "stream",
     "text": [
      "_________________________________________________________________\n",
      "Layer (type)                 Output Shape              Param #   \n",
      "=================================================================\n",
      "input_1 (InputLayer)         (None, 3072)              0         \n",
      "_________________________________________________________________\n",
      "hidden_layer1 (Dense)        (None, 512)               1573376   \n",
      "_________________________________________________________________\n",
      "batch_normalization_1 (Batch (None, 512)               2048      \n",
      "_________________________________________________________________\n",
      "hidden_layer2 (Dense)        (None, 256)               131328    \n",
      "_________________________________________________________________\n",
      "batch_normalization_2 (Batch (None, 256)               1024      \n",
      "_________________________________________________________________\n",
      "hidden_layer3 (Dense)        (None, 128)               32896     \n",
      "_________________________________________________________________\n",
      "batch_normalization_3 (Batch (None, 128)               512       \n",
      "_________________________________________________________________\n",
      "output (Dense)               (None, 10)                1290      \n",
      "=================================================================\n",
      "Total params: 1,742,474\n",
      "Trainable params: 1,740,682\n",
      "Non-trainable params: 1,792\n",
      "_________________________________________________________________\n",
      "Train on 50000 samples, validate on 10000 samples\n",
      "Epoch 1/50\n",
      "50000/50000 [==============================] - 7s 144us/step - loss: 2.1875 - acc: 0.2742 - val_loss: 2.0706 - val_acc: 0.3235\n",
      "Epoch 2/50\n",
      "50000/50000 [==============================] - 6s 118us/step - loss: 1.7393 - acc: 0.3921 - val_loss: 1.8185 - val_acc: 0.3754\n",
      "Epoch 3/50\n",
      "50000/50000 [==============================] - 6s 119us/step - loss: 1.6151 - acc: 0.4342 - val_loss: 1.6935 - val_acc: 0.4113\n",
      "Epoch 4/50\n",
      "50000/50000 [==============================] - 6s 119us/step - loss: 1.5412 - acc: 0.4614 - val_loss: 1.6271 - val_acc: 0.4339\n",
      "Epoch 5/50\n",
      "50000/50000 [==============================] - 7s 139us/step - loss: 1.4865 - acc: 0.4797 - val_loss: 1.5918 - val_acc: 0.4450\n",
      "Epoch 6/50\n",
      "50000/50000 [==============================] - 7s 135us/step - loss: 1.4414 - acc: 0.4957 - val_loss: 1.5598 - val_acc: 0.4560\n",
      "Epoch 7/50\n",
      "50000/50000 [==============================] - 6s 128us/step - loss: 1.4014 - acc: 0.5102 - val_loss: 1.5500 - val_acc: 0.4593\n",
      "Epoch 8/50\n",
      "50000/50000 [==============================] - 7s 138us/step - loss: 1.3654 - acc: 0.5233 - val_loss: 1.5327 - val_acc: 0.4643\n",
      "Epoch 9/50\n",
      "50000/50000 [==============================] - 7s 141us/step - loss: 1.3355 - acc: 0.5351 - val_loss: 1.5119 - val_acc: 0.4733\n",
      "Epoch 10/50\n",
      "50000/50000 [==============================] - 7s 133us/step - loss: 1.3015 - acc: 0.5470 - val_loss: 1.5055 - val_acc: 0.4739\n",
      "Epoch 11/50\n",
      "50000/50000 [==============================] - 7s 135us/step - loss: 1.2747 - acc: 0.5572 - val_loss: 1.5026 - val_acc: 0.4766\n",
      "Epoch 12/50\n",
      "50000/50000 [==============================] - 7s 132us/step - loss: 1.2485 - acc: 0.5688 - val_loss: 1.4912 - val_acc: 0.4784\n",
      "Epoch 13/50\n",
      "50000/50000 [==============================] - 7s 134us/step - loss: 1.2223 - acc: 0.5766 - val_loss: 1.4840 - val_acc: 0.4823\n",
      "Epoch 14/50\n",
      "50000/50000 [==============================] - 7s 131us/step - loss: 1.1962 - acc: 0.5863 - val_loss: 1.4820 - val_acc: 0.4825\n",
      "Epoch 15/50\n",
      "50000/50000 [==============================] - 7s 138us/step - loss: 1.1740 - acc: 0.5951 - val_loss: 1.4782 - val_acc: 0.4865\n",
      "Epoch 16/50\n",
      "50000/50000 [==============================] - 7s 132us/step - loss: 1.1496 - acc: 0.6040 - val_loss: 1.4795 - val_acc: 0.4920\n",
      "Epoch 17/50\n",
      "50000/50000 [==============================] - 7s 149us/step - loss: 1.1272 - acc: 0.6142 - val_loss: 1.4630 - val_acc: 0.4920\n",
      "Epoch 18/50\n",
      "50000/50000 [==============================] - 7s 134us/step - loss: 1.1033 - acc: 0.6233 - val_loss: 1.4688 - val_acc: 0.4937\n",
      "Epoch 19/50\n",
      "50000/50000 [==============================] - 7s 131us/step - loss: 1.0813 - acc: 0.6306 - val_loss: 1.4673 - val_acc: 0.4944\n",
      "Epoch 20/50\n",
      "50000/50000 [==============================] - 7s 132us/step - loss: 1.0603 - acc: 0.6396 - val_loss: 1.4565 - val_acc: 0.5003\n",
      "Epoch 21/50\n",
      "50000/50000 [==============================] - 7s 137us/step - loss: 1.0389 - acc: 0.6478 - val_loss: 1.4646 - val_acc: 0.4978\n",
      "Epoch 22/50\n",
      "50000/50000 [==============================] - 7s 137us/step - loss: 1.0193 - acc: 0.6562 - val_loss: 1.4699 - val_acc: 0.4945\n",
      "Epoch 23/50\n",
      "50000/50000 [==============================] - 7s 136us/step - loss: 1.0001 - acc: 0.6626 - val_loss: 1.4633 - val_acc: 0.5030\n",
      "Epoch 24/50\n",
      "50000/50000 [==============================] - 7s 131us/step - loss: 0.9766 - acc: 0.6722 - val_loss: 1.4678 - val_acc: 0.4970\n",
      "Epoch 25/50\n",
      "50000/50000 [==============================] - 7s 134us/step - loss: 0.9559 - acc: 0.6807 - val_loss: 1.4769 - val_acc: 0.4985\n",
      "Epoch 26/50\n",
      "50000/50000 [==============================] - 7s 149us/step - loss: 0.9382 - acc: 0.6870 - val_loss: 1.4769 - val_acc: 0.5016\n",
      "Epoch 27/50\n",
      "50000/50000 [==============================] - 7s 134us/step - loss: 0.9169 - acc: 0.6947 - val_loss: 1.4791 - val_acc: 0.4996\n",
      "Epoch 28/50\n",
      "50000/50000 [==============================] - 7s 142us/step - loss: 0.8950 - acc: 0.7047 - val_loss: 1.4781 - val_acc: 0.4964\n",
      "Epoch 29/50\n",
      "50000/50000 [==============================] - 7s 136us/step - loss: 0.8735 - acc: 0.7111 - val_loss: 1.4803 - val_acc: 0.4976\n",
      "Epoch 30/50\n",
      "50000/50000 [==============================] - 9s 177us/step - loss: 0.8551 - acc: 0.7192 - val_loss: 1.4882 - val_acc: 0.4997\n",
      "Epoch 31/50\n",
      "50000/50000 [==============================] - 9s 185us/step - loss: 0.8341 - acc: 0.7295 - val_loss: 1.4894 - val_acc: 0.5031\n",
      "Epoch 32/50\n",
      "50000/50000 [==============================] - 7s 147us/step - loss: 0.8151 - acc: 0.7371 - val_loss: 1.4863 - val_acc: 0.5025\n",
      "Epoch 33/50\n",
      "50000/50000 [==============================] - 7s 140us/step - loss: 0.7953 - acc: 0.7443 - val_loss: 1.5016 - val_acc: 0.5024\n",
      "Epoch 34/50\n",
      "50000/50000 [==============================] - 7s 142us/step - loss: 0.7757 - acc: 0.7526 - val_loss: 1.5069 - val_acc: 0.4972\n",
      "Epoch 35/50\n",
      "50000/50000 [==============================] - 7s 135us/step - loss: 0.7592 - acc: 0.7589 - val_loss: 1.5043 - val_acc: 0.5066\n",
      "Epoch 36/50\n",
      "50000/50000 [==============================] - 7s 146us/step - loss: 0.7392 - acc: 0.7661 - val_loss: 1.5203 - val_acc: 0.5012\n",
      "Epoch 37/50\n",
      "50000/50000 [==============================] - 7s 136us/step - loss: 0.7178 - acc: 0.7746 - val_loss: 1.5458 - val_acc: 0.4997\n",
      "Epoch 38/50\n",
      "50000/50000 [==============================] - 7s 149us/step - loss: 0.6996 - acc: 0.7822 - val_loss: 1.5302 - val_acc: 0.4912\n",
      "Epoch 39/50\n",
      "50000/50000 [==============================] - 7s 138us/step - loss: 0.6812 - acc: 0.7888 - val_loss: 1.5537 - val_acc: 0.4981\n",
      "Epoch 40/50\n",
      "50000/50000 [==============================] - 7s 135us/step - loss: 0.6625 - acc: 0.7982 - val_loss: 1.5679 - val_acc: 0.4986\n",
      "Epoch 41/50\n",
      "50000/50000 [==============================] - 7s 137us/step - loss: 0.6448 - acc: 0.8038 - val_loss: 1.5905 - val_acc: 0.4964\n",
      "Epoch 42/50\n",
      "50000/50000 [==============================] - 7s 145us/step - loss: 0.6278 - acc: 0.8100 - val_loss: 1.5822 - val_acc: 0.4989\n",
      "Epoch 43/50\n",
      "50000/50000 [==============================] - 7s 141us/step - loss: 0.6108 - acc: 0.8173 - val_loss: 1.5794 - val_acc: 0.4976\n",
      "Epoch 44/50\n",
      "50000/50000 [==============================] - 7s 137us/step - loss: 0.5933 - acc: 0.8243 - val_loss: 1.5845 - val_acc: 0.4964\n",
      "Epoch 45/50\n",
      "50000/50000 [==============================] - 7s 134us/step - loss: 0.5744 - acc: 0.8312 - val_loss: 1.6126 - val_acc: 0.4926\n",
      "Epoch 46/50\n",
      "50000/50000 [==============================] - 7s 136us/step - loss: 0.5587 - acc: 0.8372 - val_loss: 1.6360 - val_acc: 0.4904\n",
      "Epoch 47/50\n",
      "50000/50000 [==============================] - 7s 135us/step - loss: 0.5393 - acc: 0.8438 - val_loss: 1.6615 - val_acc: 0.4926\n",
      "Epoch 48/50\n",
      "50000/50000 [==============================] - 7s 134us/step - loss: 0.5244 - acc: 0.8512 - val_loss: 1.6517 - val_acc: 0.4901\n",
      "Epoch 49/50\n"
     ]
    },
    {
     "name": "stdout",
     "output_type": "stream",
     "text": [
      "50000/50000 [==============================] - 7s 136us/step - loss: 0.5080 - acc: 0.8569 - val_loss: 1.6599 - val_acc: 0.4957\n",
      "Epoch 50/50\n",
      "50000/50000 [==============================] - 7s 131us/step - loss: 0.4920 - acc: 0.8643 - val_loss: 1.6723 - val_acc: 0.4918\n"
     ]
    }
   ],
   "source": [
    "# 載入 Callbacks\n",
    "\"\"\"Code Here\n",
    "設定 callbacks: model checkpoint\n",
    "\"\"\"\n",
    "from keras.callbacks import ModelCheckpoint\n",
    "\n",
    "model_ckpt = ModelCheckpoint(filepath=\"./tmp.h5\", \n",
    "                             monitor=\"val_loss\", \n",
    "                             save_best_only=True)\n",
    "\"\"\"Code Here\n",
    "撰寫你的訓練流程並將結果用 dictionary 紀錄\n",
    "\"\"\"\n",
    "model = build_mlp(input_shape=x_train.shape[1:])\n",
    "model.summary()\n",
    "optimizer = keras.optimizers.SGD(lr=LEARNING_RATE, nesterov=True, momentum=MOMENTUM)\n",
    "model.compile(loss=\"categorical_crossentropy\", metrics=[\"accuracy\"], optimizer=optimizer)\n",
    "\n",
    "model.fit(x_train, y_train, \n",
    "          epochs=EPOCHS, \n",
    "          batch_size=BATCH_SIZE, \n",
    "          validation_data=(x_test, y_test), \n",
    "          shuffle=True,\n",
    "          callbacks=[model_ckpt]\n",
    "         )\n",
    "model.save(\"final_model.h5\")\n",
    "model.save_weights(\"model_weights.h5\")\n",
    "# Collect results\n",
    "train_loss = model.history.history[\"loss\"]\n",
    "valid_loss = model.history.history[\"val_loss\"]\n",
    "train_acc = model.history.history[\"acc\"]\n",
    "valid_acc = model.history.history[\"val_acc\"]\n",
    "\n",
    "pred_final = model.predict(x_test)\n",
    "# Load back\n",
    "model = keras.models.load_model(\"./tmp.h5\")\n",
    "pred_loadback = model.predict(x_test)"
   ]
  },
  {
   "cell_type": "code",
   "execution_count": 8,
   "metadata": {
    "scrolled": true
   },
   "outputs": [
    {
     "name": "stdout",
     "output_type": "stream",
     "text": [
      "Accuracy of final weights: 0.492\n",
      "Accuracy of best weights: 0.500\n"
     ]
    }
   ],
   "source": [
    "from sklearn.metrics import accuracy_score\n",
    "\n",
    "final_model_acc = accuracy_score(y_true=y_test.argmax(axis=-1), y_pred=pred_final.argmax(axis=-1))\n",
    "loadback_acc = accuracy_score(y_true=y_test.argmax(axis=-1), y_pred=pred_loadback.argmax(axis=-1))\n",
    "\n",
    "print(\"Accuracy of final weights: %.3f\" % final_model_acc)\n",
    "print(\"Accuracy of best weights: %.3f\" % loadback_acc)"
   ]
  },
  {
   "cell_type": "code",
   "execution_count": 9,
   "metadata": {},
   "outputs": [
    {
     "name": "stdout",
     "output_type": "stream",
     "text": [
      "Accuracy of best weights: 0.126\n",
      "Accuracy of best weights: 0.492\n"
     ]
    }
   ],
   "source": [
    "new_model = build_mlp(input_shape=x_train.shape[1:])\n",
    "new_model_pred = new_model.predict(x_test)\n",
    "new_model_acc = accuracy_score(y_true=y_test.argmax(axis=-1), y_pred=new_model_pred.argmax(axis=-1))\n",
    "print(\"Accuracy of best weights: %.3f\" % new_model_acc)\n",
    "\n",
    "new_model.load_weights(\"./model_weights.h5\")\n",
    "new_model_pred = new_model.predict(x_test)\n",
    "new_model_loadback_acc = accuracy_score(y_true=y_test.argmax(axis=-1), y_pred=new_model_pred.argmax(axis=-1))\n",
    "print(\"Accuracy of best weights: %.3f\" % new_model_loadback_acc)"
   ]
  },
  {
   "cell_type": "code",
   "execution_count": null,
   "metadata": {},
   "outputs": [],
   "source": []
  }
 ],
 "metadata": {
  "kernelspec": {
   "display_name": "Python 3",
   "language": "python",
   "name": "python3"
  },
  "language_info": {
   "codemirror_mode": {
    "name": "ipython",
    "version": 3
   },
   "file_extension": ".py",
   "mimetype": "text/x-python",
   "name": "python",
   "nbconvert_exporter": "python",
   "pygments_lexer": "ipython3",
   "version": "3.7.3"
  }
 },
 "nbformat": 4,
 "nbformat_minor": 2
}

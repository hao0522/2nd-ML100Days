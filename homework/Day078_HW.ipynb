{
 "cells": [
  {
   "cell_type": "markdown",
   "metadata": {},
   "source": [
    "## Work\n",
    "1. 請嘗試將 preproc_x 替換成以每筆資料的 min/max 進行標準化至 -1 ~ 1 間，再進行訓練\n",
    "2. 請嘗試將 mlp 疊更深 (e.g 5~10 層)，進行訓練後觀察 learning curve 的走勢\n",
    "3. (optional) 請改用 GPU 進行訓練 (如果你有 GPU 的話)，比較使用 CPU 與 GPU 的訓練速度"
   ]
  },
  {
   "cell_type": "code",
   "execution_count": 1,
   "metadata": {},
   "outputs": [],
   "source": [
    "## \n",
    "\"\"\"\n",
    "Your code here (optional)\n",
    "確認硬體資源\n",
    "\"\"\"\n",
    "!nvidia-smi"
   ]
  },
  {
   "cell_type": "code",
   "execution_count": 1,
   "metadata": {},
   "outputs": [
    {
     "name": "stderr",
     "output_type": "stream",
     "text": [
      "Using TensorFlow backend.\n"
     ]
    }
   ],
   "source": [
    "import os\n",
    "import keras\n",
    "\n",
    "# 請嘗試設定 GPU：os.environ\n"
   ]
  },
  {
   "cell_type": "code",
   "execution_count": 2,
   "metadata": {},
   "outputs": [],
   "source": [
    "train, test = keras.datasets.cifar10.load_data()"
   ]
  },
  {
   "cell_type": "code",
   "execution_count": 3,
   "metadata": {},
   "outputs": [],
   "source": [
    "## 資料前處理\n",
    "\"\"\"\n",
    "Your code here\n",
    "\"\"\"\n",
    "def preproc_x(x, flatten=True):\n",
    "    x = 2*(((x - x.min()) / (x.max() - x.min()))-0.5)\n",
    "    if flatten:\n",
    "        x = x.reshape((len(x), -1))\n",
    "    return x\n",
    "\n",
    "def preproc_y(y, num_classes=10):\n",
    "    if y.shape[-1] == 1:\n",
    "        y = keras.utils.to_categorical(y, num_classes)\n",
    "    return y   "
   ]
  },
  {
   "cell_type": "code",
   "execution_count": 4,
   "metadata": {},
   "outputs": [],
   "source": [
    "x_train, y_train = train\n",
    "x_test, y_test = test\n",
    "\n",
    "# Preproc the inputs\n",
    "x_train = preproc_x(x_train)\n",
    "x_test = preproc_x(x_test)\n",
    "\n",
    "# Preprc the outputs\n",
    "y_train = preproc_y(y_train)\n",
    "y_test = preproc_y(y_test)"
   ]
  },
  {
   "cell_type": "code",
   "execution_count": 6,
   "metadata": {},
   "outputs": [
    {
     "name": "stderr",
     "output_type": "stream",
     "text": [
      "WARNING: Logging before flag parsing goes to stderr.\n",
      "W0825 15:02:26.777624  3536 deprecation_wrapper.py:119] From C:\\Users\\sam0522\\Anaconda3\\lib\\site-packages\\keras\\backend\\tensorflow_backend.py:74: The name tf.get_default_graph is deprecated. Please use tf.compat.v1.get_default_graph instead.\n",
      "\n",
      "W0825 15:02:26.881346  3536 deprecation_wrapper.py:119] From C:\\Users\\sam0522\\Anaconda3\\lib\\site-packages\\keras\\backend\\tensorflow_backend.py:517: The name tf.placeholder is deprecated. Please use tf.compat.v1.placeholder instead.\n",
      "\n",
      "W0825 15:02:26.905290  3536 deprecation_wrapper.py:119] From C:\\Users\\sam0522\\Anaconda3\\lib\\site-packages\\keras\\backend\\tensorflow_backend.py:4138: The name tf.random_uniform is deprecated. Please use tf.random.uniform instead.\n",
      "\n"
     ]
    },
    {
     "name": "stdout",
     "output_type": "stream",
     "text": [
      "_________________________________________________________________\n",
      "Layer (type)                 Output Shape              Param #   \n",
      "=================================================================\n",
      "input_1 (InputLayer)         (None, 3072)              0         \n",
      "_________________________________________________________________\n",
      "hidden_layer1 (Dense)        (None, 512)               1573376   \n",
      "_________________________________________________________________\n",
      "hidden_layer2 (Dense)        (None, 256)               131328    \n",
      "_________________________________________________________________\n",
      "hidden_layer3 (Dense)        (None, 128)               32896     \n",
      "_________________________________________________________________\n",
      "hidden_layer4 (Dense)        (None, 128)               16512     \n",
      "_________________________________________________________________\n",
      "hidden_layer5 (Dense)        (None, 128)               16512     \n",
      "_________________________________________________________________\n",
      "output (Dense)               (None, 10)                1290      \n",
      "=================================================================\n",
      "Total params: 1,771,914\n",
      "Trainable params: 1,771,914\n",
      "Non-trainable params: 0\n",
      "_________________________________________________________________\n"
     ]
    }
   ],
   "source": [
    "\"\"\"Code Here\n",
    "建立你的神經網路\n",
    "\"\"\"\n",
    "def build_mlp(input_shape, output_units=10, num_neurons=[512, 256, 128, 128, 128]):\n",
    "    input_layer = keras.layers.Input(input_shape)\n",
    "    \n",
    "    for i, n_units in enumerate(num_neurons):\n",
    "        if i == 0:\n",
    "            x = keras.layers.Dense(units=n_units, activation=\"relu\", name=\"hidden_layer\"+str(i+1))(input_layer)\n",
    "        else:\n",
    "            x = keras.layers.Dense(units=n_units, activation=\"relu\", name=\"hidden_layer\"+str(i+1))(x)\n",
    "    \n",
    "    out = keras.layers.Dense(units=output_units, activation=\"softmax\", name=\"output\")(x)\n",
    "    \n",
    "    model = keras.models.Model(inputs=[input_layer], outputs=[out])\n",
    "    return model\n",
    "\n",
    "model = build_mlp(input_shape=x_train.shape[1:])\n",
    "model.summary()"
   ]
  },
  {
   "cell_type": "code",
   "execution_count": 7,
   "metadata": {},
   "outputs": [],
   "source": [
    "## 超參數設定\n",
    "LEARNING_RATE = 0.001\n",
    "EPOCHS = 100\n",
    "BATCH_SIZE = 256"
   ]
  },
  {
   "cell_type": "code",
   "execution_count": 8,
   "metadata": {},
   "outputs": [
    {
     "name": "stderr",
     "output_type": "stream",
     "text": [
      "W0825 15:02:31.494010  3536 deprecation_wrapper.py:119] From C:\\Users\\sam0522\\Anaconda3\\lib\\site-packages\\keras\\optimizers.py:790: The name tf.train.Optimizer is deprecated. Please use tf.compat.v1.train.Optimizer instead.\n",
      "\n",
      "W0825 15:02:31.506975  3536 deprecation_wrapper.py:119] From C:\\Users\\sam0522\\Anaconda3\\lib\\site-packages\\keras\\backend\\tensorflow_backend.py:3295: The name tf.log is deprecated. Please use tf.math.log instead.\n",
      "\n"
     ]
    }
   ],
   "source": [
    "optimizer = keras.optimizers.Adam(lr=LEARNING_RATE)\n",
    "model.compile(loss=\"categorical_crossentropy\", metrics=[\"accuracy\"], optimizer=optimizer)"
   ]
  },
  {
   "cell_type": "code",
   "execution_count": 9,
   "metadata": {},
   "outputs": [
    {
     "name": "stderr",
     "output_type": "stream",
     "text": [
      "W0825 15:02:46.005964  3536 deprecation.py:323] From C:\\Users\\sam0522\\Anaconda3\\lib\\site-packages\\tensorflow\\python\\ops\\math_grad.py:1250: add_dispatch_support.<locals>.wrapper (from tensorflow.python.ops.array_ops) is deprecated and will be removed in a future version.\n",
      "Instructions for updating:\n",
      "Use tf.where in 2.0, which has the same broadcast rule as np.where\n",
      "W0825 15:02:46.205432  3536 deprecation_wrapper.py:119] From C:\\Users\\sam0522\\Anaconda3\\lib\\site-packages\\keras\\backend\\tensorflow_backend.py:986: The name tf.assign_add is deprecated. Please use tf.compat.v1.assign_add instead.\n",
      "\n"
     ]
    },
    {
     "name": "stdout",
     "output_type": "stream",
     "text": [
      "Train on 50000 samples, validate on 10000 samples\n",
      "Epoch 1/100\n",
      "50000/50000 [==============================] - 12s 235us/step - loss: 1.6903 - acc: 0.3964 - val_loss: 1.5373 - val_acc: 0.4541\n",
      "Epoch 2/100\n",
      "50000/50000 [==============================] - 13s 257us/step - loss: 1.4604 - acc: 0.4827 - val_loss: 1.4375 - val_acc: 0.4923\n",
      "Epoch 3/100\n",
      "50000/50000 [==============================] - 12s 241us/step - loss: 1.3480 - acc: 0.5240 - val_loss: 1.3931 - val_acc: 0.5087\n",
      "Epoch 4/100\n",
      "50000/50000 [==============================] - 10s 194us/step - loss: 1.2526 - acc: 0.5558 - val_loss: 1.3608 - val_acc: 0.5226\n",
      "Epoch 5/100\n",
      "50000/50000 [==============================] - 10s 192us/step - loss: 1.1689 - acc: 0.5861 - val_loss: 1.3637 - val_acc: 0.5239\n",
      "Epoch 6/100\n",
      "50000/50000 [==============================] - 10s 193us/step - loss: 1.0919 - acc: 0.6141 - val_loss: 1.3606 - val_acc: 0.5313\n",
      "Epoch 7/100\n",
      "50000/50000 [==============================] - 10s 200us/step - loss: 1.0139 - acc: 0.6410 - val_loss: 1.3805 - val_acc: 0.5282\n",
      "Epoch 8/100\n",
      "50000/50000 [==============================] - 10s 208us/step - loss: 0.9451 - acc: 0.6645 - val_loss: 1.3936 - val_acc: 0.5406\n",
      "Epoch 9/100\n",
      "50000/50000 [==============================] - 11s 213us/step - loss: 0.8720 - acc: 0.6892 - val_loss: 1.4085 - val_acc: 0.5418\n",
      "Epoch 10/100\n",
      "50000/50000 [==============================] - 11s 222us/step - loss: 0.8068 - acc: 0.7131 - val_loss: 1.5087 - val_acc: 0.5217\n",
      "Epoch 11/100\n",
      "50000/50000 [==============================] - 11s 225us/step - loss: 0.7580 - acc: 0.7302 - val_loss: 1.5068 - val_acc: 0.5370\n",
      "Epoch 12/100\n",
      "50000/50000 [==============================] - 11s 223us/step - loss: 0.6808 - acc: 0.7576 - val_loss: 1.5657 - val_acc: 0.5356\n",
      "Epoch 13/100\n",
      "50000/50000 [==============================] - 11s 223us/step - loss: 0.6201 - acc: 0.7813 - val_loss: 1.6572 - val_acc: 0.5356\n",
      "Epoch 14/100\n",
      "50000/50000 [==============================] - 12s 230us/step - loss: 0.5700 - acc: 0.7978 - val_loss: 1.7481 - val_acc: 0.5388\n",
      "Epoch 15/100\n",
      "50000/50000 [==============================] - 12s 238us/step - loss: 0.5223 - acc: 0.8140 - val_loss: 1.7807 - val_acc: 0.5349\n",
      "Epoch 16/100\n",
      "50000/50000 [==============================] - 11s 222us/step - loss: 0.4772 - acc: 0.8305 - val_loss: 1.9543 - val_acc: 0.5295\n",
      "Epoch 17/100\n",
      "50000/50000 [==============================] - 11s 212us/step - loss: 0.4471 - acc: 0.8431 - val_loss: 1.9999 - val_acc: 0.5314\n",
      "Epoch 18/100\n",
      "50000/50000 [==============================] - 11s 215us/step - loss: 0.4057 - acc: 0.8567 - val_loss: 2.0515 - val_acc: 0.5312\n",
      "Epoch 19/100\n",
      "50000/50000 [==============================] - 10s 209us/step - loss: 0.3790 - acc: 0.8678 - val_loss: 2.1619 - val_acc: 0.5269\n",
      "Epoch 20/100\n",
      "50000/50000 [==============================] - 11s 216us/step - loss: 0.3514 - acc: 0.8761 - val_loss: 2.2660 - val_acc: 0.5267\n",
      "Epoch 21/100\n",
      "50000/50000 [==============================] - 11s 222us/step - loss: 0.3214 - acc: 0.8867 - val_loss: 2.3972 - val_acc: 0.5268\n",
      "Epoch 22/100\n",
      "50000/50000 [==============================] - 11s 217us/step - loss: 0.3172 - acc: 0.8891 - val_loss: 2.3218 - val_acc: 0.5233\n",
      "Epoch 23/100\n",
      "50000/50000 [==============================] - 10s 202us/step - loss: 0.2665 - acc: 0.9055 - val_loss: 2.4767 - val_acc: 0.5289\n",
      "Epoch 24/100\n",
      "50000/50000 [==============================] - 10s 198us/step - loss: 0.2759 - acc: 0.9027 - val_loss: 2.5780 - val_acc: 0.5213\n",
      "Epoch 25/100\n",
      "50000/50000 [==============================] - 10s 196us/step - loss: 0.2650 - acc: 0.9072 - val_loss: 2.6039 - val_acc: 0.5258\n",
      "Epoch 26/100\n",
      "50000/50000 [==============================] - 10s 198us/step - loss: 0.2333 - acc: 0.9187 - val_loss: 2.7320 - val_acc: 0.5323\n",
      "Epoch 27/100\n",
      "50000/50000 [==============================] - 10s 193us/step - loss: 0.2310 - acc: 0.9205 - val_loss: 2.7406 - val_acc: 0.5345\n",
      "Epoch 28/100\n",
      "50000/50000 [==============================] - 10s 197us/step - loss: 0.2153 - acc: 0.9254 - val_loss: 2.8050 - val_acc: 0.5284\n",
      "Epoch 29/100\n",
      "50000/50000 [==============================] - 10s 194us/step - loss: 0.2137 - acc: 0.9260 - val_loss: 2.8424 - val_acc: 0.5259\n",
      "Epoch 30/100\n",
      "50000/50000 [==============================] - 10s 204us/step - loss: 0.1981 - acc: 0.9305 - val_loss: 2.9459 - val_acc: 0.5247\n",
      "Epoch 31/100\n",
      "50000/50000 [==============================] - 10s 209us/step - loss: 0.1962 - acc: 0.9324 - val_loss: 2.9864 - val_acc: 0.5281\n",
      "Epoch 32/100\n",
      "50000/50000 [==============================] - 11s 213us/step - loss: 0.1914 - acc: 0.9349 - val_loss: 2.9788 - val_acc: 0.5287\n",
      "Epoch 33/100\n",
      "50000/50000 [==============================] - 11s 217us/step - loss: 0.1872 - acc: 0.9370 - val_loss: 3.1310 - val_acc: 0.5152\n",
      "Epoch 34/100\n",
      "50000/50000 [==============================] - 10s 210us/step - loss: 0.1678 - acc: 0.9424 - val_loss: 3.0840 - val_acc: 0.5215\n",
      "Epoch 35/100\n",
      "50000/50000 [==============================] - 11s 210us/step - loss: 0.1650 - acc: 0.9430 - val_loss: 3.2031 - val_acc: 0.5244\n",
      "Epoch 36/100\n",
      "50000/50000 [==============================] - 11s 210us/step - loss: 0.1690 - acc: 0.9421 - val_loss: 3.2774 - val_acc: 0.5191\n",
      "Epoch 37/100\n",
      "50000/50000 [==============================] - 10s 210us/step - loss: 0.1532 - acc: 0.9472 - val_loss: 3.2136 - val_acc: 0.5286\n",
      "Epoch 38/100\n",
      "50000/50000 [==============================] - 11s 211us/step - loss: 0.1527 - acc: 0.9482 - val_loss: 3.2346 - val_acc: 0.5205\n",
      "Epoch 39/100\n",
      "50000/50000 [==============================] - 10s 208us/step - loss: 0.1563 - acc: 0.9466 - val_loss: 3.2505 - val_acc: 0.5218\n",
      "Epoch 40/100\n",
      "50000/50000 [==============================] - 11s 210us/step - loss: 0.1612 - acc: 0.9458 - val_loss: 3.2007 - val_acc: 0.5228\n",
      "Epoch 41/100\n",
      "50000/50000 [==============================] - 10s 209us/step - loss: 0.1423 - acc: 0.9521 - val_loss: 3.3118 - val_acc: 0.5289\n",
      "Epoch 42/100\n",
      "50000/50000 [==============================] - 11s 211us/step - loss: 0.1373 - acc: 0.9533 - val_loss: 3.2885 - val_acc: 0.5262\n",
      "Epoch 43/100\n",
      "50000/50000 [==============================] - 10s 208us/step - loss: 0.1281 - acc: 0.9559 - val_loss: 3.3715 - val_acc: 0.5276\n",
      "Epoch 44/100\n",
      "50000/50000 [==============================] - 11s 220us/step - loss: 0.1246 - acc: 0.9578 - val_loss: 3.4157 - val_acc: 0.5279\n",
      "Epoch 45/100\n",
      "50000/50000 [==============================] - 10s 195us/step - loss: 0.1324 - acc: 0.9545 - val_loss: 3.3697 - val_acc: 0.5252\n",
      "Epoch 46/100\n",
      "50000/50000 [==============================] - 10s 196us/step - loss: 0.1350 - acc: 0.9545 - val_loss: 3.4719 - val_acc: 0.5196\n",
      "Epoch 47/100\n",
      "50000/50000 [==============================] - 11s 215us/step - loss: 0.1237 - acc: 0.9574 - val_loss: 3.4847 - val_acc: 0.5215\n",
      "Epoch 48/100\n",
      "50000/50000 [==============================] - 10s 198us/step - loss: 0.1252 - acc: 0.9579 - val_loss: 3.5355 - val_acc: 0.5185\n",
      "Epoch 49/100\n",
      "50000/50000 [==============================] - 11s 221us/step - loss: 0.1337 - acc: 0.9560 - val_loss: 3.4303 - val_acc: 0.5283\n",
      "Epoch 50/100\n",
      "50000/50000 [==============================] - 11s 217us/step - loss: 0.1309 - acc: 0.9559 - val_loss: 3.3883 - val_acc: 0.5296\n",
      "Epoch 51/100\n",
      "50000/50000 [==============================] - 11s 224us/step - loss: 0.1109 - acc: 0.9617 - val_loss: 3.4737 - val_acc: 0.5240\n",
      "Epoch 52/100\n",
      "50000/50000 [==============================] - 13s 263us/step - loss: 0.1273 - acc: 0.9568 - val_loss: 3.4770 - val_acc: 0.5323\n",
      "Epoch 53/100\n",
      "50000/50000 [==============================] - 10s 207us/step - loss: 0.1104 - acc: 0.9626 - val_loss: 3.5108 - val_acc: 0.5245\n",
      "Epoch 54/100\n",
      "50000/50000 [==============================] - 11s 217us/step - loss: 0.1249 - acc: 0.9587 - val_loss: 3.4896 - val_acc: 0.5339\n",
      "Epoch 55/100\n",
      "50000/50000 [==============================] - 11s 214us/step - loss: 0.1149 - acc: 0.9620 - val_loss: 3.5863 - val_acc: 0.5352\n",
      "Epoch 56/100\n",
      "50000/50000 [==============================] - 11s 216us/step - loss: 0.0959 - acc: 0.9682 - val_loss: 3.7253 - val_acc: 0.5321\n",
      "Epoch 57/100\n",
      "50000/50000 [==============================] - 11s 225us/step - loss: 0.1135 - acc: 0.9627 - val_loss: 3.5174 - val_acc: 0.5230\n",
      "Epoch 58/100\n"
     ]
    },
    {
     "name": "stdout",
     "output_type": "stream",
     "text": [
      "50000/50000 [==============================] - 12s 239us/step - loss: 0.1129 - acc: 0.9620 - val_loss: 3.5051 - val_acc: 0.5342\n",
      "Epoch 59/100\n",
      "50000/50000 [==============================] - 12s 241us/step - loss: 0.0995 - acc: 0.9672 - val_loss: 3.6889 - val_acc: 0.5344\n",
      "Epoch 60/100\n",
      "50000/50000 [==============================] - 12s 246us/step - loss: 0.0970 - acc: 0.9684 - val_loss: 3.8030 - val_acc: 0.5291\n",
      "Epoch 61/100\n",
      "50000/50000 [==============================] - 12s 241us/step - loss: 0.1169 - acc: 0.9621 - val_loss: 3.6153 - val_acc: 0.5265\n",
      "Epoch 62/100\n",
      "50000/50000 [==============================] - 12s 249us/step - loss: 0.0909 - acc: 0.9700 - val_loss: 3.6532 - val_acc: 0.5266\n",
      "Epoch 63/100\n",
      "50000/50000 [==============================] - 13s 255us/step - loss: 0.0927 - acc: 0.9690 - val_loss: 3.7481 - val_acc: 0.5349\n",
      "Epoch 64/100\n",
      "50000/50000 [==============================] - 13s 256us/step - loss: 0.1159 - acc: 0.9621 - val_loss: 3.6306 - val_acc: 0.5289\n",
      "Epoch 65/100\n",
      "50000/50000 [==============================] - 13s 262us/step - loss: 0.0955 - acc: 0.9689 - val_loss: 3.5639 - val_acc: 0.5332\n",
      "Epoch 66/100\n",
      "50000/50000 [==============================] - 12s 238us/step - loss: 0.0886 - acc: 0.9703 - val_loss: 3.7051 - val_acc: 0.5277\n",
      "Epoch 67/100\n",
      "50000/50000 [==============================] - 11s 228us/step - loss: 0.0800 - acc: 0.9731 - val_loss: 3.7537 - val_acc: 0.5353\n",
      "Epoch 68/100\n",
      "50000/50000 [==============================] - 11s 222us/step - loss: 0.0936 - acc: 0.9695 - val_loss: 3.6937 - val_acc: 0.5293\n",
      "Epoch 69/100\n",
      "50000/50000 [==============================] - 11s 211us/step - loss: 0.0920 - acc: 0.9699 - val_loss: 3.7212 - val_acc: 0.5240\n",
      "Epoch 70/100\n",
      "50000/50000 [==============================] - 11s 219us/step - loss: 0.0872 - acc: 0.9724 - val_loss: 3.7282 - val_acc: 0.5248\n",
      "Epoch 71/100\n",
      "50000/50000 [==============================] - 11s 211us/step - loss: 0.0863 - acc: 0.9720 - val_loss: 3.8567 - val_acc: 0.5261\n",
      "Epoch 72/100\n",
      "50000/50000 [==============================] - 10s 208us/step - loss: 0.0862 - acc: 0.9715 - val_loss: 3.7182 - val_acc: 0.5298\n",
      "Epoch 73/100\n",
      "50000/50000 [==============================] - 11s 212us/step - loss: 0.0991 - acc: 0.9670 - val_loss: 3.6957 - val_acc: 0.5261\n",
      "Epoch 74/100\n",
      "50000/50000 [==============================] - 11s 228us/step - loss: 0.0934 - acc: 0.9694 - val_loss: 3.7032 - val_acc: 0.5324\n",
      "Epoch 75/100\n",
      "50000/50000 [==============================] - 12s 237us/step - loss: 0.0937 - acc: 0.9693 - val_loss: 3.6664 - val_acc: 0.5313\n",
      "Epoch 76/100\n",
      "50000/50000 [==============================] - 12s 232us/step - loss: 0.0785 - acc: 0.9745 - val_loss: 3.8132 - val_acc: 0.5306\n",
      "Epoch 77/100\n",
      "50000/50000 [==============================] - 11s 225us/step - loss: 0.0785 - acc: 0.9745 - val_loss: 3.7316 - val_acc: 0.5324\n",
      "Epoch 78/100\n",
      "50000/50000 [==============================] - 11s 227us/step - loss: 0.0874 - acc: 0.9704 - val_loss: 3.6396 - val_acc: 0.5395\n",
      "Epoch 79/100\n",
      "50000/50000 [==============================] - 11s 227us/step - loss: 0.0633 - acc: 0.9794 - val_loss: 3.8937 - val_acc: 0.5249\n",
      "Epoch 80/100\n",
      "50000/50000 [==============================] - 11s 228us/step - loss: 0.0786 - acc: 0.9740 - val_loss: 3.8411 - val_acc: 0.5263\n",
      "Epoch 81/100\n",
      "50000/50000 [==============================] - 11s 228us/step - loss: 0.0684 - acc: 0.9780 - val_loss: 3.9361 - val_acc: 0.5333\n",
      "Epoch 82/100\n",
      "50000/50000 [==============================] - 11s 222us/step - loss: 0.0970 - acc: 0.9687 - val_loss: 3.7310 - val_acc: 0.5237\n",
      "Epoch 83/100\n",
      "50000/50000 [==============================] - 11s 226us/step - loss: 0.0903 - acc: 0.9706 - val_loss: 3.8114 - val_acc: 0.5297\n",
      "Epoch 84/100\n",
      "50000/50000 [==============================] - 12s 242us/step - loss: 0.0903 - acc: 0.9711 - val_loss: 3.7901 - val_acc: 0.5313\n",
      "Epoch 85/100\n",
      "50000/50000 [==============================] - 12s 234us/step - loss: 0.0716 - acc: 0.9774 - val_loss: 3.9728 - val_acc: 0.5219\n",
      "Epoch 86/100\n",
      "50000/50000 [==============================] - 12s 235us/step - loss: 0.0768 - acc: 0.9752 - val_loss: 3.9223 - val_acc: 0.5216\n",
      "Epoch 87/100\n",
      "50000/50000 [==============================] - 11s 229us/step - loss: 0.0711 - acc: 0.9778 - val_loss: 3.8146 - val_acc: 0.5290\n",
      "Epoch 88/100\n",
      "50000/50000 [==============================] - 11s 224us/step - loss: 0.0675 - acc: 0.9776 - val_loss: 3.8680 - val_acc: 0.5278\n",
      "Epoch 89/100\n",
      "50000/50000 [==============================] - 11s 229us/step - loss: 0.0934 - acc: 0.9706 - val_loss: 3.7828 - val_acc: 0.5269\n",
      "Epoch 90/100\n",
      "50000/50000 [==============================] - 11s 222us/step - loss: 0.0732 - acc: 0.9769 - val_loss: 3.8861 - val_acc: 0.5298\n",
      "Epoch 91/100\n",
      "50000/50000 [==============================] - 10s 209us/step - loss: 0.0537 - acc: 0.9818 - val_loss: 3.9628 - val_acc: 0.5390\n",
      "Epoch 92/100\n",
      "50000/50000 [==============================] - 10s 210us/step - loss: 0.0571 - acc: 0.9818 - val_loss: 3.9945 - val_acc: 0.5203\n",
      "Epoch 93/100\n",
      "50000/50000 [==============================] - 11s 210us/step - loss: 0.0873 - acc: 0.9725 - val_loss: 3.7739 - val_acc: 0.5283\n",
      "Epoch 94/100\n",
      "50000/50000 [==============================] - 11s 213us/step - loss: 0.0807 - acc: 0.9735 - val_loss: 3.7930 - val_acc: 0.5317\n",
      "Epoch 95/100\n",
      "50000/50000 [==============================] - 11s 223us/step - loss: 0.0682 - acc: 0.9787 - val_loss: 3.8986 - val_acc: 0.5311\n",
      "Epoch 96/100\n",
      "50000/50000 [==============================] - 11s 212us/step - loss: 0.0658 - acc: 0.9785 - val_loss: 3.9706 - val_acc: 0.5261\n",
      "Epoch 97/100\n",
      "50000/50000 [==============================] - 11s 217us/step - loss: 0.0838 - acc: 0.9727 - val_loss: 3.9270 - val_acc: 0.5313\n",
      "Epoch 98/100\n",
      "50000/50000 [==============================] - 10s 210us/step - loss: 0.0556 - acc: 0.9816 - val_loss: 4.0287 - val_acc: 0.5314\n",
      "Epoch 99/100\n",
      "50000/50000 [==============================] - 10s 210us/step - loss: 0.0689 - acc: 0.9788 - val_loss: 3.9065 - val_acc: 0.5250\n",
      "Epoch 100/100\n",
      "50000/50000 [==============================] - 11s 217us/step - loss: 0.0829 - acc: 0.9731 - val_loss: 3.9115 - val_acc: 0.5223\n"
     ]
    },
    {
     "data": {
      "text/plain": [
       "<keras.callbacks.History at 0x253b1a01390>"
      ]
     },
     "execution_count": 9,
     "metadata": {},
     "output_type": "execute_result"
    }
   ],
   "source": [
    "model.fit(x_train, y_train, \n",
    "          epochs=EPOCHS, \n",
    "          batch_size=BATCH_SIZE, \n",
    "          validation_data=(x_test, y_test), \n",
    "          shuffle=True)"
   ]
  },
  {
   "cell_type": "code",
   "execution_count": 11,
   "metadata": {},
   "outputs": [
    {
     "data": {
      "image/png": "[encoded data removed]",
      "text/plain": [
       "<Figure size 432x288 with 1 Axes>"
      ]
     },
     "metadata": {
      "needs_background": "light"
     },
     "output_type": "display_data"
    },
    {
     "data": {
      "image/png": "[encoded data removed]",
      "text/plain": [
       "<Figure size 432x288 with 1 Axes>"
      ]
     },
     "metadata": {
      "needs_background": "light"
     },
     "output_type": "display_data"
    }
   ],
   "source": [
    "import matplotlib.pyplot as plt\n",
    "\n",
    "\n",
    "train_loss = model.history.history[\"loss\"]\n",
    "valid_loss = model.history.history[\"val_loss\"]\n",
    "\n",
    "train_acc = model.history.history[\"acc\"]\n",
    "valid_acc = model.history.history[\"val_acc\"]\n",
    "\n",
    "plt.plot(range(len(train_loss)), train_loss, label=\"train loss\")\n",
    "plt.plot(range(len(valid_loss)), valid_loss, label=\"valid loss\")\n",
    "plt.legend()\n",
    "plt.title(\"Loss\")\n",
    "plt.show()\n",
    "\n",
    "plt.plot(range(len(train_acc)), train_acc, label=\"train accuracy\")\n",
    "plt.plot(range(len(valid_acc)), valid_acc, label=\"valid accuracy\")\n",
    "plt.legend()\n",
    "plt.title(\"Accuracy\")\n",
    "plt.show()"
   ]
  },
  {
   "cell_type": "code",
   "execution_count": null,
   "metadata": {},
   "outputs": [],
   "source": []
  }
 ],
 "metadata": {
  "kernelspec": {
   "display_name": "Python 3",
   "language": "python",
   "name": "python3"
  },
  "language_info": {
   "codemirror_mode": {
    "name": "ipython",
    "version": 3
   },
   "file_extension": ".py",
   "mimetype": "text/x-python",
   "name": "python",
   "nbconvert_exporter": "python",
   "pygments_lexer": "ipython3",
   "version": "3.7.3"
  }
 },
 "nbformat": 4,
 "nbformat_minor": 2
}

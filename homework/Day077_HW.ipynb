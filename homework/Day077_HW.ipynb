{
 "cells": [
  {
   "cell_type": "markdown",
   "metadata": {},
   "source": [
    "## Work\n",
    "1. 請將 Epoch 加到 500 個，並觀察 learning curve 的走勢\n",
    "2. 請將 Optimizer 換成 SGD，並觀察 learning curve 的走勢"
   ]
  },
  {
   "cell_type": "code",
   "execution_count": 1,
   "metadata": {},
   "outputs": [
    {
     "name": "stderr",
     "output_type": "stream",
     "text": [
      "Using TensorFlow backend.\n"
     ]
    }
   ],
   "source": [
    "import os\n",
    "import keras\n",
    "\n",
    "# 本作業可以不需使用 GPU, 將 GPU 設定為 \"無\" (若有 GPU 且想開啟，可設為 \"0\")\n",
    "os.environ[\"CUDA_VISIBLE_DEVICES\"] = \"無\""
   ]
  },
  {
   "cell_type": "code",
   "execution_count": 2,
   "metadata": {},
   "outputs": [],
   "source": [
    "# 從 Keras 的內建功能中，取得 train 與 test 資料集\n",
    "train, test = keras.datasets.cifar10.load_data()"
   ]
  },
  {
   "cell_type": "code",
   "execution_count": 3,
   "metadata": {},
   "outputs": [],
   "source": [
    "# 將 X 與 Y 獨立放進變數\n",
    "x_train, y_train = train\n",
    "x_test, y_test = test\n",
    "# 資料前處理 - 標準化\n",
    "x_train = x_train / 255.\n",
    "x_test = x_test / 255.\n",
    "\n",
    "# 將資料從圖形 (RGB) 轉為向量 (Single Vector)\n",
    "x_train = x_train.reshape((len(x_train), -1))\n",
    "x_test = x_test.reshape((len(x_test), -1))\n",
    "\n",
    "# 將目標轉為 one-hot encoding\n",
    "y_train = keras.utils.to_categorical(y_train, num_classes=10)\n",
    "y_test = keras.utils.to_categorical(y_test, num_classes=10)"
   ]
  },
  {
   "cell_type": "code",
   "execution_count": 4,
   "metadata": {},
   "outputs": [
    {
     "name": "stderr",
     "output_type": "stream",
     "text": [
      "WARNING: Logging before flag parsing goes to stderr.\n",
      "W0825 13:45:08.139049  6760 deprecation_wrapper.py:119] From C:\\Users\\sam0522\\Anaconda3\\lib\\site-packages\\keras\\backend\\tensorflow_backend.py:74: The name tf.get_default_graph is deprecated. Please use tf.compat.v1.get_default_graph instead.\n",
      "\n",
      "W0825 13:45:08.170965  6760 deprecation_wrapper.py:119] From C:\\Users\\sam0522\\Anaconda3\\lib\\site-packages\\keras\\backend\\tensorflow_backend.py:517: The name tf.placeholder is deprecated. Please use tf.compat.v1.placeholder instead.\n",
      "\n",
      "W0825 13:45:08.178943  6760 deprecation_wrapper.py:119] From C:\\Users\\sam0522\\Anaconda3\\lib\\site-packages\\keras\\backend\\tensorflow_backend.py:4138: The name tf.random_uniform is deprecated. Please use tf.random.uniform instead.\n",
      "\n"
     ]
    }
   ],
   "source": [
    "def build_mlp():\n",
    "    \"\"\"Code Here\n",
    "    建立你的神經網路\n",
    "    \"\"\"\n",
    "    input_layer = keras.layers.Input([x_train.shape[-1]])\n",
    "    x = keras.layers.Dense(units=512, activation=\"relu\")(input_layer)\n",
    "    x = keras.layers.Dense(units=256, activation=\"relu\")(x)\n",
    "    x = keras.layers.Dense(units=128, activation=\"relu\")(x)\n",
    "    out = keras.layers.Dense(units=10, activation=\"softmax\")(x)\n",
    "    \n",
    "    model = keras.models.Model(inputs=[input_layer], outputs=[out])\n",
    "    return model\n",
    "model = build_mlp()"
   ]
  },
  {
   "cell_type": "code",
   "execution_count": 5,
   "metadata": {},
   "outputs": [
    {
     "name": "stderr",
     "output_type": "stream",
     "text": [
      "W0825 13:45:31.101630  6760 deprecation_wrapper.py:119] From C:\\Users\\sam0522\\Anaconda3\\lib\\site-packages\\keras\\optimizers.py:790: The name tf.train.Optimizer is deprecated. Please use tf.compat.v1.train.Optimizer instead.\n",
      "\n",
      "W0825 13:45:31.113599  6760 deprecation_wrapper.py:119] From C:\\Users\\sam0522\\Anaconda3\\lib\\site-packages\\keras\\backend\\tensorflow_backend.py:3295: The name tf.log is deprecated. Please use tf.math.log instead.\n",
      "\n"
     ]
    },
    {
     "name": "stdout",
     "output_type": "stream",
     "text": [
      "_________________________________________________________________\n",
      "Layer (type)                 Output Shape              Param #   \n",
      "=================================================================\n",
      "input_2 (InputLayer)         (None, 3072)              0         \n",
      "_________________________________________________________________\n",
      "dense_5 (Dense)              (None, 512)               1573376   \n",
      "_________________________________________________________________\n",
      "dense_6 (Dense)              (None, 256)               131328    \n",
      "_________________________________________________________________\n",
      "dense_7 (Dense)              (None, 128)               32896     \n",
      "_________________________________________________________________\n",
      "dense_8 (Dense)              (None, 10)                1290      \n",
      "=================================================================\n",
      "Total params: 1,738,890\n",
      "Trainable params: 1,738,890\n",
      "Non-trainable params: 0\n",
      "_________________________________________________________________\n"
     ]
    }
   ],
   "source": [
    "\"\"\"\n",
    "Compile 模型\n",
    "\"\"\"\n",
    "model = build_mlp()\n",
    "# 用 Keras 內建方法檢視模型各層參數量\n",
    "model.summary()\n",
    "\n",
    "optimizer = keras.optimizers.SGD(lr=0.001)\n",
    "model.compile(loss=\"categorical_crossentropy\", metrics=[\"accuracy\"], optimizer=optimizer)"
   ]
  },
  {
   "cell_type": "code",
   "execution_count": 6,
   "metadata": {
    "scrolled": true
   },
   "outputs": [
    {
     "name": "stderr",
     "output_type": "stream",
     "text": [
      "W0825 13:45:49.082600  6760 deprecation.py:323] From C:\\Users\\sam0522\\Anaconda3\\lib\\site-packages\\tensorflow\\python\\ops\\math_grad.py:1250: add_dispatch_support.<locals>.wrapper (from tensorflow.python.ops.array_ops) is deprecated and will be removed in a future version.\n",
      "Instructions for updating:\n",
      "Use tf.where in 2.0, which has the same broadcast rule as np.where\n",
      "W0825 13:45:49.238184  6760 deprecation_wrapper.py:119] From C:\\Users\\sam0522\\Anaconda3\\lib\\site-packages\\keras\\backend\\tensorflow_backend.py:986: The name tf.assign_add is deprecated. Please use tf.compat.v1.assign_add instead.\n",
      "\n"
     ]
    },
    {
     "name": "stdout",
     "output_type": "stream",
     "text": [
      "Train on 50000 samples, validate on 10000 samples\n",
      "Epoch 1/100\n",
      "50000/50000 [==============================] - 8s 157us/step - loss: 2.2691 - acc: 0.1509 - val_loss: 2.2104 - val_acc: 0.2095\n",
      "Epoch 2/100\n",
      "50000/50000 [==============================] - 8s 154us/step - loss: 2.1730 - acc: 0.2366 - val_loss: 2.1367 - val_acc: 0.2602\n",
      "Epoch 3/100\n",
      "50000/50000 [==============================] - 8s 153us/step - loss: 2.1098 - acc: 0.2636 - val_loss: 2.0820 - val_acc: 0.2733\n",
      "Epoch 4/100\n",
      "50000/50000 [==============================] - 7s 142us/step - loss: 2.0610 - acc: 0.2788 - val_loss: 2.0391 - val_acc: 0.2876\n",
      "Epoch 5/100\n",
      "50000/50000 [==============================] - 8s 154us/step - loss: 2.0231 - acc: 0.2896 - val_loss: 2.0056 - val_acc: 0.2974\n",
      "Epoch 6/100\n",
      "50000/50000 [==============================] - 9s 172us/step - loss: 1.9929 - acc: 0.2990 - val_loss: 1.9794 - val_acc: 0.3056\n",
      "Epoch 7/100\n",
      "50000/50000 [==============================] - 8s 154us/step - loss: 1.9681 - acc: 0.3077 - val_loss: 1.9553 - val_acc: 0.3121\n",
      "Epoch 8/100\n",
      "50000/50000 [==============================] - 7s 147us/step - loss: 1.9462 - acc: 0.3147 - val_loss: 1.9342 - val_acc: 0.3173\n",
      "Epoch 9/100\n",
      "50000/50000 [==============================] - 7s 147us/step - loss: 1.9273 - acc: 0.3200 - val_loss: 1.9179 - val_acc: 0.3237\n",
      "Epoch 10/100\n",
      "50000/50000 [==============================] - 8s 151us/step - loss: 1.9112 - acc: 0.3268 - val_loss: 1.9016 - val_acc: 0.3282\n",
      "Epoch 11/100\n",
      "50000/50000 [==============================] - 8s 160us/step - loss: 1.8967 - acc: 0.3328 - val_loss: 1.8892 - val_acc: 0.3293\n",
      "Epoch 12/100\n",
      "50000/50000 [==============================] - 8s 159us/step - loss: 1.8839 - acc: 0.3374 - val_loss: 1.8766 - val_acc: 0.3338\n",
      "Epoch 13/100\n",
      "50000/50000 [==============================] - 8s 160us/step - loss: 1.8724 - acc: 0.3422 - val_loss: 1.8659 - val_acc: 0.3426\n",
      "Epoch 14/100\n",
      "50000/50000 [==============================] - 8s 156us/step - loss: 1.8616 - acc: 0.3458 - val_loss: 1.8551 - val_acc: 0.3471\n",
      "Epoch 15/100\n",
      "50000/50000 [==============================] - 8s 156us/step - loss: 1.8515 - acc: 0.3491 - val_loss: 1.8459 - val_acc: 0.3494\n",
      "Epoch 16/100\n",
      "50000/50000 [==============================] - 8s 157us/step - loss: 1.8423 - acc: 0.3531 - val_loss: 1.8366 - val_acc: 0.3528\n",
      "Epoch 17/100\n",
      "50000/50000 [==============================] - 8s 156us/step - loss: 1.8339 - acc: 0.3572 - val_loss: 1.8291 - val_acc: 0.3550\n",
      "Epoch 18/100\n",
      "50000/50000 [==============================] - 8s 155us/step - loss: 1.8256 - acc: 0.3592 - val_loss: 1.8211 - val_acc: 0.3576\n",
      "Epoch 19/100\n",
      "50000/50000 [==============================] - 8s 157us/step - loss: 1.8179 - acc: 0.3617 - val_loss: 1.8144 - val_acc: 0.3673\n",
      "Epoch 20/100\n",
      "50000/50000 [==============================] - 8s 163us/step - loss: 1.8106 - acc: 0.3653 - val_loss: 1.8072 - val_acc: 0.3656\n",
      "Epoch 21/100\n",
      "50000/50000 [==============================] - 8s 157us/step - loss: 1.8038 - acc: 0.3685 - val_loss: 1.8008 - val_acc: 0.3695\n",
      "Epoch 22/100\n",
      "50000/50000 [==============================] - 8s 159us/step - loss: 1.7973 - acc: 0.3702 - val_loss: 1.7942 - val_acc: 0.3676\n",
      "Epoch 23/100\n",
      "50000/50000 [==============================] - 8s 156us/step - loss: 1.7906 - acc: 0.3721 - val_loss: 1.7882 - val_acc: 0.3744\n",
      "Epoch 24/100\n",
      "50000/50000 [==============================] - 8s 157us/step - loss: 1.7845 - acc: 0.3756 - val_loss: 1.7808 - val_acc: 0.3753\n",
      "Epoch 25/100\n",
      "50000/50000 [==============================] - 8s 158us/step - loss: 1.7782 - acc: 0.3779 - val_loss: 1.7756 - val_acc: 0.3733\n",
      "Epoch 26/100\n",
      "50000/50000 [==============================] - 8s 167us/step - loss: 1.7723 - acc: 0.3797 - val_loss: 1.7712 - val_acc: 0.3789\n",
      "Epoch 27/100\n",
      "50000/50000 [==============================] - 8s 160us/step - loss: 1.7668 - acc: 0.3818 - val_loss: 1.7642 - val_acc: 0.3802\n",
      "Epoch 28/100\n",
      "50000/50000 [==============================] - 7s 147us/step - loss: 1.7612 - acc: 0.3833 - val_loss: 1.7585 - val_acc: 0.3807\n",
      "Epoch 29/100\n",
      "50000/50000 [==============================] - 7s 146us/step - loss: 1.7557 - acc: 0.3855 - val_loss: 1.7561 - val_acc: 0.3849\n",
      "Epoch 30/100\n",
      "50000/50000 [==============================] - 8s 155us/step - loss: 1.7509 - acc: 0.3871 - val_loss: 1.7492 - val_acc: 0.3854\n",
      "Epoch 31/100\n",
      "50000/50000 [==============================] - 7s 146us/step - loss: 1.7457 - acc: 0.3895 - val_loss: 1.7439 - val_acc: 0.3880\n",
      "Epoch 32/100\n",
      "50000/50000 [==============================] - 7s 149us/step - loss: 1.7410 - acc: 0.3908 - val_loss: 1.7411 - val_acc: 0.3903\n",
      "Epoch 33/100\n",
      "50000/50000 [==============================] - 8s 159us/step - loss: 1.7363 - acc: 0.3930 - val_loss: 1.7358 - val_acc: 0.3910\n",
      "Epoch 34/100\n",
      "50000/50000 [==============================] - 7s 148us/step - loss: 1.7317 - acc: 0.3936 - val_loss: 1.7305 - val_acc: 0.3923\n",
      "Epoch 35/100\n",
      "50000/50000 [==============================] - 7s 147us/step - loss: 1.7273 - acc: 0.3958 - val_loss: 1.7274 - val_acc: 0.3926\n",
      "Epoch 36/100\n",
      "50000/50000 [==============================] - 7s 150us/step - loss: 1.7230 - acc: 0.3965 - val_loss: 1.7219 - val_acc: 0.3980\n",
      "Epoch 37/100\n",
      "50000/50000 [==============================] - 8s 151us/step - loss: 1.7188 - acc: 0.3973 - val_loss: 1.7183 - val_acc: 0.3945\n",
      "Epoch 38/100\n",
      "50000/50000 [==============================] - 7s 148us/step - loss: 1.7150 - acc: 0.3985 - val_loss: 1.7140 - val_acc: 0.3983\n",
      "Epoch 39/100\n",
      "50000/50000 [==============================] - 7s 147us/step - loss: 1.7107 - acc: 0.4007 - val_loss: 1.7102 - val_acc: 0.4015\n",
      "Epoch 40/100\n",
      "50000/50000 [==============================] - 8s 150us/step - loss: 1.7066 - acc: 0.4025 - val_loss: 1.7085 - val_acc: 0.4025\n",
      "Epoch 41/100\n",
      "50000/50000 [==============================] - 8s 157us/step - loss: 1.7032 - acc: 0.4041 - val_loss: 1.7021 - val_acc: 0.4012\n",
      "Epoch 42/100\n",
      "50000/50000 [==============================] - 8s 163us/step - loss: 1.6993 - acc: 0.4040 - val_loss: 1.7002 - val_acc: 0.4068\n",
      "Epoch 43/100\n",
      "50000/50000 [==============================] - 8s 162us/step - loss: 1.6956 - acc: 0.4067 - val_loss: 1.6951 - val_acc: 0.4034\n",
      "Epoch 44/100\n",
      "50000/50000 [==============================] - 8s 166us/step - loss: 1.6917 - acc: 0.4071 - val_loss: 1.6931 - val_acc: 0.4065\n",
      "Epoch 45/100\n",
      "50000/50000 [==============================] - 8s 161us/step - loss: 1.6882 - acc: 0.4088 - val_loss: 1.6885 - val_acc: 0.4095\n",
      "Epoch 46/100\n",
      "50000/50000 [==============================] - 8s 160us/step - loss: 1.6848 - acc: 0.4103 - val_loss: 1.6860 - val_acc: 0.4108\n",
      "Epoch 47/100\n",
      "50000/50000 [==============================] - 8s 160us/step - loss: 1.6814 - acc: 0.4105 - val_loss: 1.6840 - val_acc: 0.4085\n",
      "Epoch 48/100\n",
      "50000/50000 [==============================] - 8s 161us/step - loss: 1.6779 - acc: 0.4116 - val_loss: 1.6806 - val_acc: 0.4102\n",
      "Epoch 49/100\n",
      "50000/50000 [==============================] - 8s 160us/step - loss: 1.6748 - acc: 0.4132 - val_loss: 1.6776 - val_acc: 0.4100\n",
      "Epoch 50/100\n",
      "50000/50000 [==============================] - 8s 161us/step - loss: 1.6717 - acc: 0.4153 - val_loss: 1.6742 - val_acc: 0.4129\n",
      "Epoch 51/100\n",
      "50000/50000 [==============================] - 8s 165us/step - loss: 1.6685 - acc: 0.4149 - val_loss: 1.6700 - val_acc: 0.4135\n",
      "Epoch 52/100\n",
      "50000/50000 [==============================] - 8s 168us/step - loss: 1.6653 - acc: 0.4178 - val_loss: 1.6665 - val_acc: 0.4163\n",
      "Epoch 53/100\n",
      "50000/50000 [==============================] - 8s 166us/step - loss: 1.6621 - acc: 0.4178 - val_loss: 1.6642 - val_acc: 0.4162\n",
      "Epoch 54/100\n",
      "50000/50000 [==============================] - 8s 163us/step - loss: 1.6589 - acc: 0.4189 - val_loss: 1.6628 - val_acc: 0.4218\n",
      "Epoch 55/100\n",
      "50000/50000 [==============================] - 8s 162us/step - loss: 1.6560 - acc: 0.4187 - val_loss: 1.6588 - val_acc: 0.4218\n",
      "Epoch 56/100\n",
      "50000/50000 [==============================] - 9s 172us/step - loss: 1.6528 - acc: 0.4205 - val_loss: 1.6558 - val_acc: 0.4202\n",
      "Epoch 57/100\n",
      "50000/50000 [==============================] - 8s 169us/step - loss: 1.6500 - acc: 0.4210 - val_loss: 1.6523 - val_acc: 0.4209\n",
      "Epoch 58/100\n",
      "50000/50000 [==============================] - 8s 164us/step - loss: 1.6472 - acc: 0.4231 - val_loss: 1.6499 - val_acc: 0.4216\n",
      "Epoch 59/100\n"
     ]
    },
    {
     "name": "stdout",
     "output_type": "stream",
     "text": [
      "50000/50000 [==============================] - 7s 148us/step - loss: 1.6442 - acc: 0.4243 - val_loss: 1.6501 - val_acc: 0.4255\n",
      "Epoch 60/100\n",
      "50000/50000 [==============================] - 7s 142us/step - loss: 1.6415 - acc: 0.4251 - val_loss: 1.6451 - val_acc: 0.4229\n",
      "Epoch 61/100\n",
      "50000/50000 [==============================] - 7s 143us/step - loss: 1.6384 - acc: 0.4251 - val_loss: 1.6436 - val_acc: 0.4257\n",
      "Epoch 62/100\n",
      "50000/50000 [==============================] - 7s 142us/step - loss: 1.6358 - acc: 0.4267 - val_loss: 1.6419 - val_acc: 0.4272\n",
      "Epoch 63/100\n",
      "50000/50000 [==============================] - 7s 145us/step - loss: 1.6328 - acc: 0.4274 - val_loss: 1.6380 - val_acc: 0.4260\n",
      "Epoch 64/100\n",
      "50000/50000 [==============================] - 8s 151us/step - loss: 1.6302 - acc: 0.4293 - val_loss: 1.6367 - val_acc: 0.4270\n",
      "Epoch 65/100\n",
      "50000/50000 [==============================] - 7s 143us/step - loss: 1.6276 - acc: 0.4300 - val_loss: 1.6329 - val_acc: 0.4286\n",
      "Epoch 66/100\n",
      "50000/50000 [==============================] - 7s 142us/step - loss: 1.6248 - acc: 0.4301 - val_loss: 1.6294 - val_acc: 0.4279\n",
      "Epoch 67/100\n",
      "50000/50000 [==============================] - 7s 144us/step - loss: 1.6222 - acc: 0.4318 - val_loss: 1.6294 - val_acc: 0.4282\n",
      "Epoch 68/100\n",
      "50000/50000 [==============================] - 7s 143us/step - loss: 1.6194 - acc: 0.4333 - val_loss: 1.6271 - val_acc: 0.4328\n",
      "Epoch 69/100\n",
      "50000/50000 [==============================] - 7s 141us/step - loss: 1.6170 - acc: 0.4334 - val_loss: 1.6245 - val_acc: 0.4336\n",
      "Epoch 70/100\n",
      "50000/50000 [==============================] - 7s 143us/step - loss: 1.6141 - acc: 0.4352 - val_loss: 1.6231 - val_acc: 0.4324\n",
      "Epoch 71/100\n",
      "50000/50000 [==============================] - 7s 142us/step - loss: 1.6116 - acc: 0.4355 - val_loss: 1.6198 - val_acc: 0.4350\n",
      "Epoch 72/100\n",
      "50000/50000 [==============================] - 7s 149us/step - loss: 1.6091 - acc: 0.4370 - val_loss: 1.6176 - val_acc: 0.4356\n",
      "Epoch 73/100\n",
      "50000/50000 [==============================] - 8s 158us/step - loss: 1.6066 - acc: 0.4378 - val_loss: 1.6200 - val_acc: 0.4367\n",
      "Epoch 74/100\n",
      "50000/50000 [==============================] - 8s 157us/step - loss: 1.6041 - acc: 0.4391 - val_loss: 1.6123 - val_acc: 0.4360\n",
      "Epoch 75/100\n",
      "50000/50000 [==============================] - 8s 154us/step - loss: 1.6015 - acc: 0.4407 - val_loss: 1.6090 - val_acc: 0.4394\n",
      "Epoch 76/100\n",
      "50000/50000 [==============================] - 8s 154us/step - loss: 1.5991 - acc: 0.4412 - val_loss: 1.6075 - val_acc: 0.4380\n",
      "Epoch 77/100\n",
      "50000/50000 [==============================] - 8s 153us/step - loss: 1.5968 - acc: 0.4420 - val_loss: 1.6061 - val_acc: 0.4394\n",
      "Epoch 78/100\n",
      "50000/50000 [==============================] - 8s 154us/step - loss: 1.5943 - acc: 0.4421 - val_loss: 1.6055 - val_acc: 0.4336\n",
      "Epoch 79/100\n",
      "50000/50000 [==============================] - 8s 152us/step - loss: 1.5921 - acc: 0.4441 - val_loss: 1.6011 - val_acc: 0.4390\n",
      "Epoch 80/100\n",
      "50000/50000 [==============================] - 8s 164us/step - loss: 1.5896 - acc: 0.4448 - val_loss: 1.6005 - val_acc: 0.4419\n",
      "Epoch 81/100\n",
      "50000/50000 [==============================] - 10s 201us/step - loss: 1.5870 - acc: 0.4453 - val_loss: 1.5973 - val_acc: 0.4408\n",
      "Epoch 82/100\n",
      "50000/50000 [==============================] - 8s 155us/step - loss: 1.5846 - acc: 0.4462 - val_loss: 1.5944 - val_acc: 0.4434\n",
      "Epoch 83/100\n",
      "50000/50000 [==============================] - 8s 158us/step - loss: 1.5825 - acc: 0.4471 - val_loss: 1.5925 - val_acc: 0.4415\n",
      "Epoch 84/100\n",
      "50000/50000 [==============================] - 8s 155us/step - loss: 1.5802 - acc: 0.4471 - val_loss: 1.5921 - val_acc: 0.4408\n",
      "Epoch 85/100\n",
      "50000/50000 [==============================] - 8s 155us/step - loss: 1.5779 - acc: 0.4486 - val_loss: 1.5892 - val_acc: 0.4434\n",
      "Epoch 86/100\n",
      "50000/50000 [==============================] - 8s 154us/step - loss: 1.5756 - acc: 0.4493 - val_loss: 1.5887 - val_acc: 0.4427\n",
      "Epoch 87/100\n",
      "50000/50000 [==============================] - 8s 156us/step - loss: 1.5736 - acc: 0.4506 - val_loss: 1.5883 - val_acc: 0.4396\n",
      "Epoch 88/100\n",
      "50000/50000 [==============================] - 8s 156us/step - loss: 1.5713 - acc: 0.4507 - val_loss: 1.5840 - val_acc: 0.4471\n",
      "Epoch 89/100\n",
      "50000/50000 [==============================] - 8s 156us/step - loss: 1.5687 - acc: 0.4517 - val_loss: 1.5817 - val_acc: 0.4449\n",
      "Epoch 90/100\n",
      "50000/50000 [==============================] - 7s 146us/step - loss: 1.5668 - acc: 0.4526 - val_loss: 1.5788 - val_acc: 0.4441\n",
      "Epoch 91/100\n",
      "50000/50000 [==============================] - 8s 156us/step - loss: 1.5644 - acc: 0.4535 - val_loss: 1.5826 - val_acc: 0.4437\n",
      "Epoch 92/100\n",
      "50000/50000 [==============================] - 8s 163us/step - loss: 1.5625 - acc: 0.4537 - val_loss: 1.5773 - val_acc: 0.4480\n",
      "Epoch 93/100\n",
      "50000/50000 [==============================] - 7s 146us/step - loss: 1.5606 - acc: 0.4547 - val_loss: 1.5740 - val_acc: 0.4481\n",
      "Epoch 94/100\n",
      "50000/50000 [==============================] - 7s 144us/step - loss: 1.5581 - acc: 0.4545 - val_loss: 1.5763 - val_acc: 0.4426\n",
      "Epoch 95/100\n",
      "50000/50000 [==============================] - 8s 152us/step - loss: 1.5561 - acc: 0.4567 - val_loss: 1.5718 - val_acc: 0.4466\n",
      "Epoch 96/100\n",
      "50000/50000 [==============================] - 7s 146us/step - loss: 1.5542 - acc: 0.4578 - val_loss: 1.5682 - val_acc: 0.4490\n",
      "Epoch 97/100\n",
      "50000/50000 [==============================] - 8s 153us/step - loss: 1.5522 - acc: 0.4578 - val_loss: 1.5711 - val_acc: 0.4455\n",
      "Epoch 98/100\n",
      "50000/50000 [==============================] - 7s 148us/step - loss: 1.5499 - acc: 0.4590 - val_loss: 1.5664 - val_acc: 0.4492\n",
      "Epoch 99/100\n",
      "50000/50000 [==============================] - 7s 147us/step - loss: 1.5478 - acc: 0.4598 - val_loss: 1.5646 - val_acc: 0.4521\n",
      "Epoch 100/100\n",
      "50000/50000 [==============================] - 8s 152us/step - loss: 1.5459 - acc: 0.4594 - val_loss: 1.5609 - val_acc: 0.4530\n"
     ]
    },
    {
     "data": {
      "text/plain": [
       "<keras.callbacks.History at 0x1ed4b0aab70>"
      ]
     },
     "execution_count": 6,
     "metadata": {},
     "output_type": "execute_result"
    }
   ],
   "source": [
    "\"\"\"\n",
    "設定要訓練的 Epoch 數\n",
    "\"\"\"\n",
    "model.fit(x_train, y_train, \n",
    "          epochs=100, \n",
    "          batch_size=256, \n",
    "          validation_data=(x_test, y_test), \n",
    "          shuffle=True)"
   ]
  },
  {
   "cell_type": "code",
   "execution_count": 8,
   "metadata": {},
   "outputs": [
    {
     "data": {
      "image/png": "[encoded data removed]",
      "text/plain": [
       "<Figure size 432x288 with 1 Axes>"
      ]
     },
     "metadata": {
      "needs_background": "light"
     },
     "output_type": "display_data"
    },
    {
     "data": {
      "image/png": "[encoded data removed]",
      "text/plain": [
       "<Figure size 432x288 with 1 Axes>"
      ]
     },
     "metadata": {
      "needs_background": "light"
     },
     "output_type": "display_data"
    }
   ],
   "source": [
    "import matplotlib.pyplot as plt\n",
    "# 以視覺畫方式檢視訓練過程\n",
    "\n",
    "train_loss = model.history.history[\"loss\"]\n",
    "valid_loss = model.history.history[\"val_loss\"]\n",
    "\n",
    "train_acc = model.history.history[\"acc\"]\n",
    "valid_acc = model.history.history[\"val_acc\"]\n",
    "\n",
    "plt.plot(range(len(train_loss)), train_loss, label=\"train loss\")\n",
    "plt.plot(range(len(valid_loss)), valid_loss, label=\"valid loss\")\n",
    "plt.legend()\n",
    "plt.title(\"Loss\")\n",
    "plt.show()\n",
    "\n",
    "plt.plot(range(len(train_acc)), train_acc, label=\"train accuracy\")\n",
    "plt.plot(range(len(valid_acc)), valid_acc, label=\"valid accuracy\")\n",
    "plt.legend()\n",
    "plt.title(\"Accuracy\")\n",
    "plt.show()"
   ]
  },
  {
   "cell_type": "code",
   "execution_count": null,
   "metadata": {},
   "outputs": [],
   "source": []
  }
 ],
 "metadata": {
  "kernelspec": {
   "display_name": "Python 3",
   "language": "python",
   "name": "python3"
  },
  "language_info": {
   "codemirror_mode": {
    "name": "ipython",
    "version": 3
   },
   "file_extension": ".py",
   "mimetype": "text/x-python",
   "name": "python",
   "nbconvert_exporter": "python",
   "pygments_lexer": "ipython3",
   "version": "3.7.3"
  }
 },
 "nbformat": 4,
 "nbformat_minor": 2
}
